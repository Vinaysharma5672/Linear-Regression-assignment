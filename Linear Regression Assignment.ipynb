{
 "cells": [
  {
   "cell_type": "code",
   "execution_count": 1,
   "id": "f3307a29",
   "metadata": {},
   "outputs": [],
   "source": [
    "import pandas as pd\n",
    "import numpy as np\n",
    "\n",
    "import matplotlib.pyplot as plt\n",
    "import seaborn as sns\n",
    "\n",
    "import warnings\n",
    "warnings.filterwarnings('ignore')"
   ]
  },
  {
   "cell_type": "code",
   "execution_count": 2,
   "id": "b4e9d7b3",
   "metadata": {},
   "outputs": [],
   "source": [
    "from sklearn.model_selection import train_test_split\n",
    "from sklearn.preprocessing import MinMaxScaler\n",
    "from sklearn.linear_model import LinearRegression\n",
    "from sklearn.feature_selection import RFE\n",
    "from sklearn.metrics import r2_score"
   ]
  },
  {
   "cell_type": "code",
   "execution_count": 3,
   "id": "4156a0af",
   "metadata": {},
   "outputs": [],
   "source": [
    "import statsmodels\n",
    "import statsmodels.api as sm\n",
    "from statsmodels.stats.outliers_influence import variance_inflation_factor"
   ]
  },
  {
   "cell_type": "code",
   "execution_count": 4,
   "id": "ea1f002b",
   "metadata": {},
   "outputs": [],
   "source": [
    "pd.set_option('display.float_format', lambda x: '%.5f' % x)"
   ]
  },
  {
   "cell_type": "markdown",
   "id": "5ee75ba3",
   "metadata": {},
   "source": [
    "# Section 2: Loading and Basic Data Understanding\n",
    "\n",
    "## Section 2.1: Loading Dataset"
   ]
  },
  {
   "cell_type": "code",
   "execution_count": 5,
   "id": "87823fa6",
   "metadata": {},
   "outputs": [
    {
     "data": {
      "text/html": [
       "<div>\n",
       "<style scoped>\n",
       "    .dataframe tbody tr th:only-of-type {\n",
       "        vertical-align: middle;\n",
       "    }\n",
       "\n",
       "    .dataframe tbody tr th {\n",
       "        vertical-align: top;\n",
       "    }\n",
       "\n",
       "    .dataframe thead th {\n",
       "        text-align: right;\n",
       "    }\n",
       "</style>\n",
       "<table border=\"1\" class=\"dataframe\">\n",
       "  <thead>\n",
       "    <tr style=\"text-align: right;\">\n",
       "      <th></th>\n",
       "      <th>instant</th>\n",
       "      <th>dteday</th>\n",
       "      <th>season</th>\n",
       "      <th>yr</th>\n",
       "      <th>mnth</th>\n",
       "      <th>holiday</th>\n",
       "      <th>weekday</th>\n",
       "      <th>workingday</th>\n",
       "      <th>weathersit</th>\n",
       "      <th>temp</th>\n",
       "      <th>atemp</th>\n",
       "      <th>hum</th>\n",
       "      <th>windspeed</th>\n",
       "      <th>casual</th>\n",
       "      <th>registered</th>\n",
       "      <th>cnt</th>\n",
       "    </tr>\n",
       "  </thead>\n",
       "  <tbody>\n",
       "    <tr>\n",
       "      <th>0</th>\n",
       "      <td>1</td>\n",
       "      <td>01-01-2018</td>\n",
       "      <td>1</td>\n",
       "      <td>0</td>\n",
       "      <td>1</td>\n",
       "      <td>0</td>\n",
       "      <td>6</td>\n",
       "      <td>0</td>\n",
       "      <td>2</td>\n",
       "      <td>14.11085</td>\n",
       "      <td>18.18125</td>\n",
       "      <td>80.58330</td>\n",
       "      <td>10.74988</td>\n",
       "      <td>331</td>\n",
       "      <td>654</td>\n",
       "      <td>985</td>\n",
       "    </tr>\n",
       "    <tr>\n",
       "      <th>1</th>\n",
       "      <td>2</td>\n",
       "      <td>02-01-2018</td>\n",
       "      <td>1</td>\n",
       "      <td>0</td>\n",
       "      <td>1</td>\n",
       "      <td>0</td>\n",
       "      <td>0</td>\n",
       "      <td>0</td>\n",
       "      <td>2</td>\n",
       "      <td>14.90260</td>\n",
       "      <td>17.68695</td>\n",
       "      <td>69.60870</td>\n",
       "      <td>16.65211</td>\n",
       "      <td>131</td>\n",
       "      <td>670</td>\n",
       "      <td>801</td>\n",
       "    </tr>\n",
       "    <tr>\n",
       "      <th>2</th>\n",
       "      <td>3</td>\n",
       "      <td>03-01-2018</td>\n",
       "      <td>1</td>\n",
       "      <td>0</td>\n",
       "      <td>1</td>\n",
       "      <td>0</td>\n",
       "      <td>1</td>\n",
       "      <td>1</td>\n",
       "      <td>1</td>\n",
       "      <td>8.05092</td>\n",
       "      <td>9.47025</td>\n",
       "      <td>43.72730</td>\n",
       "      <td>16.63670</td>\n",
       "      <td>120</td>\n",
       "      <td>1229</td>\n",
       "      <td>1349</td>\n",
       "    </tr>\n",
       "    <tr>\n",
       "      <th>3</th>\n",
       "      <td>4</td>\n",
       "      <td>04-01-2018</td>\n",
       "      <td>1</td>\n",
       "      <td>0</td>\n",
       "      <td>1</td>\n",
       "      <td>0</td>\n",
       "      <td>2</td>\n",
       "      <td>1</td>\n",
       "      <td>1</td>\n",
       "      <td>8.20000</td>\n",
       "      <td>10.60610</td>\n",
       "      <td>59.04350</td>\n",
       "      <td>10.73983</td>\n",
       "      <td>108</td>\n",
       "      <td>1454</td>\n",
       "      <td>1562</td>\n",
       "    </tr>\n",
       "    <tr>\n",
       "      <th>4</th>\n",
       "      <td>5</td>\n",
       "      <td>05-01-2018</td>\n",
       "      <td>1</td>\n",
       "      <td>0</td>\n",
       "      <td>1</td>\n",
       "      <td>0</td>\n",
       "      <td>3</td>\n",
       "      <td>1</td>\n",
       "      <td>1</td>\n",
       "      <td>9.30524</td>\n",
       "      <td>11.46350</td>\n",
       "      <td>43.69570</td>\n",
       "      <td>12.52230</td>\n",
       "      <td>82</td>\n",
       "      <td>1518</td>\n",
       "      <td>1600</td>\n",
       "    </tr>\n",
       "  </tbody>\n",
       "</table>\n",
       "</div>"
      ],
      "text/plain": [
       "   instant      dteday  season  yr  mnth  holiday  weekday  workingday  \\\n",
       "0        1  01-01-2018       1   0     1        0        6           0   \n",
       "1        2  02-01-2018       1   0     1        0        0           0   \n",
       "2        3  03-01-2018       1   0     1        0        1           1   \n",
       "3        4  04-01-2018       1   0     1        0        2           1   \n",
       "4        5  05-01-2018       1   0     1        0        3           1   \n",
       "\n",
       "   weathersit     temp    atemp      hum  windspeed  casual  registered   cnt  \n",
       "0           2 14.11085 18.18125 80.58330   10.74988     331         654   985  \n",
       "1           2 14.90260 17.68695 69.60870   16.65211     131         670   801  \n",
       "2           1  8.05092  9.47025 43.72730   16.63670     120        1229  1349  \n",
       "3           1  8.20000 10.60610 59.04350   10.73983     108        1454  1562  \n",
       "4           1  9.30524 11.46350 43.69570   12.52230      82        1518  1600  "
      ]
     },
     "execution_count": 5,
     "metadata": {},
     "output_type": "execute_result"
    }
   ],
   "source": [
    "boombikes= pd.read_csv('D:\\Data Science IITB\\Linear Regression Assignment/day.csv')\n",
    "boombikes.head()"
   ]
  },
  {
   "cell_type": "markdown",
   "id": "4f239736",
   "metadata": {},
   "source": [
    "## Section 2.2: Basic Observations and Data Understanding"
   ]
  },
  {
   "cell_type": "code",
   "execution_count": 6,
   "id": "93d593c3",
   "metadata": {},
   "outputs": [
    {
     "name": "stdout",
     "output_type": "stream",
     "text": [
      "Given datset contains 730 rows and 16 columns.\n"
     ]
    }
   ],
   "source": [
    "print(f'Given datset contains {boombikes.shape[0]} rows and {boombikes.shape[1]} columns.')"
   ]
  },
  {
   "cell_type": "code",
   "execution_count": 7,
   "id": "cb759585",
   "metadata": {},
   "outputs": [
    {
     "name": "stdout",
     "output_type": "stream",
     "text": [
      "<class 'pandas.core.frame.DataFrame'>\n",
      "RangeIndex: 730 entries, 0 to 729\n",
      "Data columns (total 16 columns):\n",
      " #   Column      Non-Null Count  Dtype  \n",
      "---  ------      --------------  -----  \n",
      " 0   instant     730 non-null    int64  \n",
      " 1   dteday      730 non-null    object \n",
      " 2   season      730 non-null    int64  \n",
      " 3   yr          730 non-null    int64  \n",
      " 4   mnth        730 non-null    int64  \n",
      " 5   holiday     730 non-null    int64  \n",
      " 6   weekday     730 non-null    int64  \n",
      " 7   workingday  730 non-null    int64  \n",
      " 8   weathersit  730 non-null    int64  \n",
      " 9   temp        730 non-null    float64\n",
      " 10  atemp       730 non-null    float64\n",
      " 11  hum         730 non-null    float64\n",
      " 12  windspeed   730 non-null    float64\n",
      " 13  casual      730 non-null    int64  \n",
      " 14  registered  730 non-null    int64  \n",
      " 15  cnt         730 non-null    int64  \n",
      "dtypes: float64(4), int64(11), object(1)\n",
      "memory usage: 91.4+ KB\n"
     ]
    }
   ],
   "source": [
    "boombikes.info()"
   ]
  },
  {
   "cell_type": "markdown",
   "id": "08a53f66",
   "metadata": {},
   "source": [
    "### Observations:"
   ]
  },
  {
   "cell_type": "markdown",
   "id": "a8421315",
   "metadata": {},
   "source": [
    "#### * Dataset contains 730 rows \n",
    "#### * Dataset contains 15 columns\n",
    "#### * Dataset does not have null values. Hence, null value handling will not be done as a part of this assignment"
   ]
  },
  {
   "cell_type": "markdown",
   "id": "53eaedb8",
   "metadata": {},
   "source": [
    "# checking for duplicates values:\n",
    "\n",
    "len(boombikes[boombikes.duplicated()])"
   ]
  },
  {
   "cell_type": "markdown",
   "id": "5db0ea83",
   "metadata": {},
   "source": [
    "#### It contains \"No\" duplicate value"
   ]
  },
  {
   "cell_type": "markdown",
   "id": "9d4da75b",
   "metadata": {},
   "source": [
    "### Section 2.2.1: Feature Understanding"
   ]
  },
  {
   "cell_type": "markdown",
   "id": "cc941cae",
   "metadata": {},
   "source": [
    "#### Following information about various columns has been extracted from data dictionary. Columns further understanding is highlighted by the reseacher wherever an explanation is needed:"
   ]
  },
  {
   "cell_type": "code",
   "execution_count": 8,
   "id": "133c3ffe",
   "metadata": {},
   "outputs": [],
   "source": [
    "# instant: record index This column acts just as a serial number and is thus reduntant. It will be dropped in next step.\n",
    "# dteday: date Since purpose of this assignmnet is aimed at linear regression, and we have been given the day of the week, month, year, holiday data in separate columns, we will drop this column in next step too."
   ]
  },
  {
   "cell_type": "markdown",
   "id": "ab02c879",
   "metadata": {},
   "source": [
    "#### Dropping feature based on above shared logic"
   ]
  },
  {
   "cell_type": "code",
   "execution_count": 9,
   "id": "4d571e0c",
   "metadata": {},
   "outputs": [
    {
     "data": {
      "text/html": [
       "<div>\n",
       "<style scoped>\n",
       "    .dataframe tbody tr th:only-of-type {\n",
       "        vertical-align: middle;\n",
       "    }\n",
       "\n",
       "    .dataframe tbody tr th {\n",
       "        vertical-align: top;\n",
       "    }\n",
       "\n",
       "    .dataframe thead th {\n",
       "        text-align: right;\n",
       "    }\n",
       "</style>\n",
       "<table border=\"1\" class=\"dataframe\">\n",
       "  <thead>\n",
       "    <tr style=\"text-align: right;\">\n",
       "      <th></th>\n",
       "      <th>dteday</th>\n",
       "      <th>season</th>\n",
       "      <th>yr</th>\n",
       "      <th>mnth</th>\n",
       "      <th>holiday</th>\n",
       "      <th>weekday</th>\n",
       "      <th>workingday</th>\n",
       "      <th>weathersit</th>\n",
       "      <th>temp</th>\n",
       "      <th>atemp</th>\n",
       "      <th>hum</th>\n",
       "      <th>windspeed</th>\n",
       "      <th>casual</th>\n",
       "      <th>registered</th>\n",
       "      <th>cnt</th>\n",
       "    </tr>\n",
       "  </thead>\n",
       "  <tbody>\n",
       "    <tr>\n",
       "      <th>0</th>\n",
       "      <td>01-01-2018</td>\n",
       "      <td>1</td>\n",
       "      <td>0</td>\n",
       "      <td>1</td>\n",
       "      <td>0</td>\n",
       "      <td>6</td>\n",
       "      <td>0</td>\n",
       "      <td>2</td>\n",
       "      <td>14.11085</td>\n",
       "      <td>18.18125</td>\n",
       "      <td>80.58330</td>\n",
       "      <td>10.74988</td>\n",
       "      <td>331</td>\n",
       "      <td>654</td>\n",
       "      <td>985</td>\n",
       "    </tr>\n",
       "    <tr>\n",
       "      <th>1</th>\n",
       "      <td>02-01-2018</td>\n",
       "      <td>1</td>\n",
       "      <td>0</td>\n",
       "      <td>1</td>\n",
       "      <td>0</td>\n",
       "      <td>0</td>\n",
       "      <td>0</td>\n",
       "      <td>2</td>\n",
       "      <td>14.90260</td>\n",
       "      <td>17.68695</td>\n",
       "      <td>69.60870</td>\n",
       "      <td>16.65211</td>\n",
       "      <td>131</td>\n",
       "      <td>670</td>\n",
       "      <td>801</td>\n",
       "    </tr>\n",
       "  </tbody>\n",
       "</table>\n",
       "</div>"
      ],
      "text/plain": [
       "       dteday  season  yr  mnth  holiday  weekday  workingday  weathersit  \\\n",
       "0  01-01-2018       1   0     1        0        6           0           2   \n",
       "1  02-01-2018       1   0     1        0        0           0           2   \n",
       "\n",
       "      temp    atemp      hum  windspeed  casual  registered  cnt  \n",
       "0 14.11085 18.18125 80.58330   10.74988     331         654  985  \n",
       "1 14.90260 17.68695 69.60870   16.65211     131         670  801  "
      ]
     },
     "execution_count": 9,
     "metadata": {},
     "output_type": "execute_result"
    }
   ],
   "source": [
    "# creating variable to store list of feature names to be dropped\n",
    "drop_col = ['instant', 'dteddy']\n",
    "\n",
    "# creating a loop to drop the columns\n",
    "for i in boombikes.columns:\n",
    "    if i in drop_col:\n",
    "        boombikes.drop(labels= i, axis= 1, inplace= True)\n",
    "        \n",
    "#Inspecting dataframe\n",
    "boombikes.head(2)"
   ]
  },
  {
   "cell_type": "markdown",
   "id": "af543b6e",
   "metadata": {},
   "source": [
    "#### Basic Data Propriety Assesment"
   ]
  },
  {
   "cell_type": "code",
   "execution_count": 10,
   "id": "9ed603b3",
   "metadata": {},
   "outputs": [
    {
     "data": {
      "text/html": [
       "<div>\n",
       "<style scoped>\n",
       "    .dataframe tbody tr th:only-of-type {\n",
       "        vertical-align: middle;\n",
       "    }\n",
       "\n",
       "    .dataframe tbody tr th {\n",
       "        vertical-align: top;\n",
       "    }\n",
       "\n",
       "    .dataframe thead th {\n",
       "        text-align: right;\n",
       "    }\n",
       "</style>\n",
       "<table border=\"1\" class=\"dataframe\">\n",
       "  <thead>\n",
       "    <tr style=\"text-align: right;\">\n",
       "      <th></th>\n",
       "      <th>season</th>\n",
       "      <th>yr</th>\n",
       "      <th>mnth</th>\n",
       "      <th>holiday</th>\n",
       "      <th>weekday</th>\n",
       "      <th>workingday</th>\n",
       "      <th>weathersit</th>\n",
       "      <th>temp</th>\n",
       "      <th>atemp</th>\n",
       "      <th>hum</th>\n",
       "      <th>windspeed</th>\n",
       "      <th>casual</th>\n",
       "      <th>registered</th>\n",
       "      <th>cnt</th>\n",
       "    </tr>\n",
       "  </thead>\n",
       "  <tbody>\n",
       "    <tr>\n",
       "      <th>count</th>\n",
       "      <td>730.00000</td>\n",
       "      <td>730.00000</td>\n",
       "      <td>730.00000</td>\n",
       "      <td>730.00000</td>\n",
       "      <td>730.00000</td>\n",
       "      <td>730.00000</td>\n",
       "      <td>730.00000</td>\n",
       "      <td>730.00000</td>\n",
       "      <td>730.00000</td>\n",
       "      <td>730.00000</td>\n",
       "      <td>730.00000</td>\n",
       "      <td>730.00000</td>\n",
       "      <td>730.00000</td>\n",
       "      <td>730.00000</td>\n",
       "    </tr>\n",
       "    <tr>\n",
       "      <th>mean</th>\n",
       "      <td>2.49863</td>\n",
       "      <td>0.50000</td>\n",
       "      <td>6.52603</td>\n",
       "      <td>0.02877</td>\n",
       "      <td>2.99726</td>\n",
       "      <td>0.68356</td>\n",
       "      <td>1.39452</td>\n",
       "      <td>20.31926</td>\n",
       "      <td>23.72632</td>\n",
       "      <td>62.76517</td>\n",
       "      <td>12.76362</td>\n",
       "      <td>849.24932</td>\n",
       "      <td>3658.75753</td>\n",
       "      <td>4508.00685</td>\n",
       "    </tr>\n",
       "    <tr>\n",
       "      <th>std</th>\n",
       "      <td>1.11018</td>\n",
       "      <td>0.50034</td>\n",
       "      <td>3.45022</td>\n",
       "      <td>0.16727</td>\n",
       "      <td>2.00616</td>\n",
       "      <td>0.46541</td>\n",
       "      <td>0.54481</td>\n",
       "      <td>7.50673</td>\n",
       "      <td>8.15031</td>\n",
       "      <td>14.23759</td>\n",
       "      <td>5.19584</td>\n",
       "      <td>686.47987</td>\n",
       "      <td>1559.75873</td>\n",
       "      <td>1936.01165</td>\n",
       "    </tr>\n",
       "    <tr>\n",
       "      <th>min</th>\n",
       "      <td>1.00000</td>\n",
       "      <td>0.00000</td>\n",
       "      <td>1.00000</td>\n",
       "      <td>0.00000</td>\n",
       "      <td>0.00000</td>\n",
       "      <td>0.00000</td>\n",
       "      <td>1.00000</td>\n",
       "      <td>2.42435</td>\n",
       "      <td>3.95348</td>\n",
       "      <td>0.00000</td>\n",
       "      <td>1.50024</td>\n",
       "      <td>2.00000</td>\n",
       "      <td>20.00000</td>\n",
       "      <td>22.00000</td>\n",
       "    </tr>\n",
       "    <tr>\n",
       "      <th>25%</th>\n",
       "      <td>2.00000</td>\n",
       "      <td>0.00000</td>\n",
       "      <td>4.00000</td>\n",
       "      <td>0.00000</td>\n",
       "      <td>1.00000</td>\n",
       "      <td>0.00000</td>\n",
       "      <td>1.00000</td>\n",
       "      <td>13.81189</td>\n",
       "      <td>16.88971</td>\n",
       "      <td>52.00000</td>\n",
       "      <td>9.04165</td>\n",
       "      <td>316.25000</td>\n",
       "      <td>2502.25000</td>\n",
       "      <td>3169.75000</td>\n",
       "    </tr>\n",
       "    <tr>\n",
       "      <th>50%</th>\n",
       "      <td>3.00000</td>\n",
       "      <td>0.50000</td>\n",
       "      <td>7.00000</td>\n",
       "      <td>0.00000</td>\n",
       "      <td>3.00000</td>\n",
       "      <td>1.00000</td>\n",
       "      <td>1.00000</td>\n",
       "      <td>20.46583</td>\n",
       "      <td>24.36822</td>\n",
       "      <td>62.62500</td>\n",
       "      <td>12.12533</td>\n",
       "      <td>717.00000</td>\n",
       "      <td>3664.50000</td>\n",
       "      <td>4548.50000</td>\n",
       "    </tr>\n",
       "    <tr>\n",
       "      <th>75%</th>\n",
       "      <td>3.00000</td>\n",
       "      <td>1.00000</td>\n",
       "      <td>10.00000</td>\n",
       "      <td>0.00000</td>\n",
       "      <td>5.00000</td>\n",
       "      <td>1.00000</td>\n",
       "      <td>2.00000</td>\n",
       "      <td>26.88061</td>\n",
       "      <td>30.44577</td>\n",
       "      <td>72.98958</td>\n",
       "      <td>15.62559</td>\n",
       "      <td>1096.50000</td>\n",
       "      <td>4783.25000</td>\n",
       "      <td>5966.00000</td>\n",
       "    </tr>\n",
       "    <tr>\n",
       "      <th>max</th>\n",
       "      <td>4.00000</td>\n",
       "      <td>1.00000</td>\n",
       "      <td>12.00000</td>\n",
       "      <td>1.00000</td>\n",
       "      <td>6.00000</td>\n",
       "      <td>1.00000</td>\n",
       "      <td>3.00000</td>\n",
       "      <td>35.32835</td>\n",
       "      <td>42.04480</td>\n",
       "      <td>97.25000</td>\n",
       "      <td>34.00002</td>\n",
       "      <td>3410.00000</td>\n",
       "      <td>6946.00000</td>\n",
       "      <td>8714.00000</td>\n",
       "    </tr>\n",
       "  </tbody>\n",
       "</table>\n",
       "</div>"
      ],
      "text/plain": [
       "         season        yr      mnth   holiday   weekday  workingday  \\\n",
       "count 730.00000 730.00000 730.00000 730.00000 730.00000   730.00000   \n",
       "mean    2.49863   0.50000   6.52603   0.02877   2.99726     0.68356   \n",
       "std     1.11018   0.50034   3.45022   0.16727   2.00616     0.46541   \n",
       "min     1.00000   0.00000   1.00000   0.00000   0.00000     0.00000   \n",
       "25%     2.00000   0.00000   4.00000   0.00000   1.00000     0.00000   \n",
       "50%     3.00000   0.50000   7.00000   0.00000   3.00000     1.00000   \n",
       "75%     3.00000   1.00000  10.00000   0.00000   5.00000     1.00000   \n",
       "max     4.00000   1.00000  12.00000   1.00000   6.00000     1.00000   \n",
       "\n",
       "       weathersit      temp     atemp       hum  windspeed     casual  \\\n",
       "count   730.00000 730.00000 730.00000 730.00000  730.00000  730.00000   \n",
       "mean      1.39452  20.31926  23.72632  62.76517   12.76362  849.24932   \n",
       "std       0.54481   7.50673   8.15031  14.23759    5.19584  686.47987   \n",
       "min       1.00000   2.42435   3.95348   0.00000    1.50024    2.00000   \n",
       "25%       1.00000  13.81189  16.88971  52.00000    9.04165  316.25000   \n",
       "50%       1.00000  20.46583  24.36822  62.62500   12.12533  717.00000   \n",
       "75%       2.00000  26.88061  30.44577  72.98958   15.62559 1096.50000   \n",
       "max       3.00000  35.32835  42.04480  97.25000   34.00002 3410.00000   \n",
       "\n",
       "       registered        cnt  \n",
       "count   730.00000  730.00000  \n",
       "mean   3658.75753 4508.00685  \n",
       "std    1559.75873 1936.01165  \n",
       "min      20.00000   22.00000  \n",
       "25%    2502.25000 3169.75000  \n",
       "50%    3664.50000 4548.50000  \n",
       "75%    4783.25000 5966.00000  \n",
       "max    6946.00000 8714.00000  "
      ]
     },
     "execution_count": 10,
     "metadata": {},
     "output_type": "execute_result"
    }
   ],
   "source": [
    "boombikes.describe()"
   ]
  },
  {
   "cell_type": "markdown",
   "id": "23e413da",
   "metadata": {},
   "source": [
    "### Obervations:"
   ]
  },
  {
   "cell_type": "markdown",
   "id": "ad152ba4",
   "metadata": {},
   "source": [
    "#### • Season:Season column has 4 values depiciting each of the 4 seasons."
   ]
  },
  {
   "cell_type": "markdown",
   "id": "05858cd0",
   "metadata": {},
   "source": [
    "#### • yr: Data comprises of exactly 2 years "
   ]
  },
  {
   "cell_type": "markdown",
   "id": "d3171a0c",
   "metadata": {},
   "source": [
    "#### • mnth: Number of months is exactly 12 hence no abnormalities noticed."
   ]
  },
  {
   "cell_type": "markdown",
   "id": "0f749123",
   "metadata": {},
   "source": [
    "#### • holiday: Max is 1 and Min is O. No deviation in this bollean column"
   ]
  },
  {
   "cell_type": "markdown",
   "id": "195db123",
   "metadata": {},
   "source": [
    "#### • weekday: Weekdays are depicted as exactly 70 to 6) corresponding to each day name. On checking data, it was noticed that the numeric values start from 0 on Sunday."
   ]
  },
  {
   "cell_type": "markdown",
   "id": "ebf97bfa",
   "metadata": {},
   "source": [
    "#### * weathersit: As per data dictionary, we are supposed to have 4 weather situations whereas the data does not contain 4th weather. The values corerspond to weather situation 1 OR 2 OR 3 only. "
   ]
  },
  {
   "cell_type": "markdown",
   "id": "cd4b09c4",
   "metadata": {},
   "source": [
    "#### • temp: Variance of temperature is between 2.4 and 35.3 with median value of 20.5. This is indicative of tropical climate in the region as per Wikipedia Article that places mean temperature of tropical regions at around 18+ degree celsius: https://en.wikipedia.org/wiki/Tropical_ climate This could, to a certain extent, possibly explain the absence of fourth season."
   ]
  },
  {
   "cell_type": "markdown",
   "id": "f7b78c68",
   "metadata": {},
   "source": [
    "#### • hum: Humidity levels Q1 and Q3 are 50% + showing a relatively humid weather. "
   ]
  },
  {
   "cell_type": "markdown",
   "id": "468ba595",
   "metadata": {},
   "source": [
    "#### • windpeed: Windspeed doesnt show a heavy variance. Relatively calmer winds. "
   ]
  },
  {
   "cell_type": "markdown",
   "id": "9afd845d",
   "metadata": {},
   "source": [
    "#### •casual: Relatively high variance as compared to 'registered."
   ]
  },
  {
   "cell_type": "markdown",
   "id": "247775ea",
   "metadata": {},
   "source": [
    "#### • registered: With given numbers, it seems to be more in line with the trend on target variable (cnt)."
   ]
  },
  {
   "cell_type": "markdown",
   "id": "475c568a",
   "metadata": {},
   "source": [
    "### Transforming season, weathersit, mnth and weekday columns based on above logic"
   ]
  },
  {
   "cell_type": "code",
   "execution_count": 11,
   "id": "97bb7778",
   "metadata": {},
   "outputs": [
    {
     "data": {
      "text/html": [
       "<div>\n",
       "<style scoped>\n",
       "    .dataframe tbody tr th:only-of-type {\n",
       "        vertical-align: middle;\n",
       "    }\n",
       "\n",
       "    .dataframe tbody tr th {\n",
       "        vertical-align: top;\n",
       "    }\n",
       "\n",
       "    .dataframe thead th {\n",
       "        text-align: right;\n",
       "    }\n",
       "</style>\n",
       "<table border=\"1\" class=\"dataframe\">\n",
       "  <thead>\n",
       "    <tr style=\"text-align: right;\">\n",
       "      <th></th>\n",
       "      <th>dteday</th>\n",
       "      <th>season</th>\n",
       "      <th>yr</th>\n",
       "      <th>mnth</th>\n",
       "      <th>holiday</th>\n",
       "      <th>weekday</th>\n",
       "      <th>workingday</th>\n",
       "      <th>weathersit</th>\n",
       "      <th>temp</th>\n",
       "      <th>atemp</th>\n",
       "      <th>hum</th>\n",
       "      <th>windspeed</th>\n",
       "      <th>casual</th>\n",
       "      <th>registered</th>\n",
       "      <th>cnt</th>\n",
       "    </tr>\n",
       "  </thead>\n",
       "  <tbody>\n",
       "    <tr>\n",
       "      <th>0</th>\n",
       "      <td>01-01-2018</td>\n",
       "      <td>Spring</td>\n",
       "      <td>0</td>\n",
       "      <td>Jan</td>\n",
       "      <td>0</td>\n",
       "      <td>Sat</td>\n",
       "      <td>0</td>\n",
       "      <td>Misty and Cloudy</td>\n",
       "      <td>14.11085</td>\n",
       "      <td>18.18125</td>\n",
       "      <td>80.58330</td>\n",
       "      <td>10.74988</td>\n",
       "      <td>331</td>\n",
       "      <td>654</td>\n",
       "      <td>985</td>\n",
       "    </tr>\n",
       "    <tr>\n",
       "      <th>1</th>\n",
       "      <td>02-01-2018</td>\n",
       "      <td>Spring</td>\n",
       "      <td>0</td>\n",
       "      <td>Jan</td>\n",
       "      <td>0</td>\n",
       "      <td>Sun</td>\n",
       "      <td>0</td>\n",
       "      <td>Misty and Cloudy</td>\n",
       "      <td>14.90260</td>\n",
       "      <td>17.68695</td>\n",
       "      <td>69.60870</td>\n",
       "      <td>16.65211</td>\n",
       "      <td>131</td>\n",
       "      <td>670</td>\n",
       "      <td>801</td>\n",
       "    </tr>\n",
       "    <tr>\n",
       "      <th>2</th>\n",
       "      <td>03-01-2018</td>\n",
       "      <td>Spring</td>\n",
       "      <td>0</td>\n",
       "      <td>Jan</td>\n",
       "      <td>0</td>\n",
       "      <td>Mon</td>\n",
       "      <td>1</td>\n",
       "      <td>Clear to Partly Cloudy</td>\n",
       "      <td>8.05092</td>\n",
       "      <td>9.47025</td>\n",
       "      <td>43.72730</td>\n",
       "      <td>16.63670</td>\n",
       "      <td>120</td>\n",
       "      <td>1229</td>\n",
       "      <td>1349</td>\n",
       "    </tr>\n",
       "    <tr>\n",
       "      <th>3</th>\n",
       "      <td>04-01-2018</td>\n",
       "      <td>Spring</td>\n",
       "      <td>0</td>\n",
       "      <td>Jan</td>\n",
       "      <td>0</td>\n",
       "      <td>Tue</td>\n",
       "      <td>1</td>\n",
       "      <td>Clear to Partly Cloudy</td>\n",
       "      <td>8.20000</td>\n",
       "      <td>10.60610</td>\n",
       "      <td>59.04350</td>\n",
       "      <td>10.73983</td>\n",
       "      <td>108</td>\n",
       "      <td>1454</td>\n",
       "      <td>1562</td>\n",
       "    </tr>\n",
       "    <tr>\n",
       "      <th>4</th>\n",
       "      <td>05-01-2018</td>\n",
       "      <td>Spring</td>\n",
       "      <td>0</td>\n",
       "      <td>Jan</td>\n",
       "      <td>0</td>\n",
       "      <td>Wed</td>\n",
       "      <td>1</td>\n",
       "      <td>Clear to Partly Cloudy</td>\n",
       "      <td>9.30524</td>\n",
       "      <td>11.46350</td>\n",
       "      <td>43.69570</td>\n",
       "      <td>12.52230</td>\n",
       "      <td>82</td>\n",
       "      <td>1518</td>\n",
       "      <td>1600</td>\n",
       "    </tr>\n",
       "  </tbody>\n",
       "</table>\n",
       "</div>"
      ],
      "text/plain": [
       "       dteday  season  yr mnth  holiday weekday  workingday  \\\n",
       "0  01-01-2018  Spring   0  Jan        0     Sat           0   \n",
       "1  02-01-2018  Spring   0  Jan        0     Sun           0   \n",
       "2  03-01-2018  Spring   0  Jan        0     Mon           1   \n",
       "3  04-01-2018  Spring   0  Jan        0     Tue           1   \n",
       "4  05-01-2018  Spring   0  Jan        0     Wed           1   \n",
       "\n",
       "               weathersit     temp    atemp      hum  windspeed  casual  \\\n",
       "0        Misty and Cloudy 14.11085 18.18125 80.58330   10.74988     331   \n",
       "1        Misty and Cloudy 14.90260 17.68695 69.60870   16.65211     131   \n",
       "2  Clear to Partly Cloudy  8.05092  9.47025 43.72730   16.63670     120   \n",
       "3  Clear to Partly Cloudy  8.20000 10.60610 59.04350   10.73983     108   \n",
       "4  Clear to Partly Cloudy  9.30524 11.46350 43.69570   12.52230      82   \n",
       "\n",
       "   registered   cnt  \n",
       "0         654   985  \n",
       "1         670   801  \n",
       "2        1229  1349  \n",
       "3        1454  1562  \n",
       "4        1518  1600  "
      ]
     },
     "execution_count": 11,
     "metadata": {},
     "output_type": "execute_result"
    }
   ],
   "source": [
    "# Transforming weatherlist feature:\n",
    "\n",
    "boombikes['weathersit']= boombikes['weathersit'].map({1: 'Clear to Partly Cloudy', 2: 'Misty and Cloudy', 3: 'Light Rain or Snow', 4: 'Heavy Rain or Snow'})\n",
    "\n",
    "# Transforming season feature:\n",
    "\n",
    "boombikes['season']= boombikes['season'].map({1:'Spring', 2:'Summer', 3:'Fall', 4:'Winter'})\n",
    "\n",
    "# Mapping Month feature:\n",
    "\n",
    "boombikes['mnth']= boombikes['mnth'].map({1: 'Jan', 2: 'Feb', 3: 'Mar', 4: 'Apr', 5: 'May', 6: 'Jun',\n",
    "                                         7: 'Jul', 8:'Aug', 9: 'Sep', 10: 'Oct', 11: 'Nov', 12:'Dec'})\n",
    "\n",
    "# Mapping Weekday feature:\n",
    "\n",
    "boombikes['weekday']= boombikes['weekday'].map({0: 'Sun', 1:'Mon', 2:'Tue', 3: 'Wed', 4:'Thu', 5:'Fri', 6: 'Sat'})\n",
    "\n",
    "# Re-observing The dataset\n",
    "\n",
    "boombikes.head()"
   ]
  },
  {
   "cell_type": "markdown",
   "id": "da9aa1a8",
   "metadata": {},
   "source": [
    "# Section 3: Exploratory Data Analysis\n"
   ]
  },
  {
   "cell_type": "markdown",
   "id": "10cf64d9",
   "metadata": {},
   "source": [
    "## Section 3.1: Univariate Analysis"
   ]
  },
  {
   "cell_type": "markdown",
   "id": "3c7f4a1c",
   "metadata": {},
   "source": [
    "### Section 3.1.1: Target Variable"
   ]
  },
  {
   "cell_type": "code",
   "execution_count": 12,
   "id": "1188ce9d",
   "metadata": {},
   "outputs": [
    {
     "data": {
      "image/png": "[encoded data removed]",
      "text/plain": [
       "<Figure size 864x360 with 2 Axes>"
      ]
     },
     "metadata": {
      "needs_background": "light"
     },
     "output_type": "display_data"
    }
   ],
   "source": [
    "\n",
    "# Creating subplot grid:\n",
    "fig, ax= plt.subplots(nrows= 1, ncols= 2, figsize= (12, 5))\n",
    "\n",
    "# Creating main title\n",
    "fig.suptitle('basic analysis of target variable (cnt)'.upper (), fontsize= 20)\n",
    "\n",
    "# Populating plot1:\n",
    "sns. boxplot (y=boombikes['cnt'], ax= ax[0], palette='Purples')\n",
    "ax[0].set_title('boxplot showing the basic statistics of target variable'.upper(),\n",
    "                fontsize= 12, fontweight=20, y=1.02)\n",
    "ax[0].set_ylabel(' ')\n",
    "ax[0].set_xlabel(' ')\n",
    "\n",
    "# Population plot2:\n",
    "sns.distplot(boombikes['cnt'], ax= ax[1], color= 'purple')\n",
    "ax[1].set_title('distribution plot of target variable (cnt)'.upper(),\n",
    "               fontsize= 12, fontweight= 20, y= 1.02)\n",
    "ax[1].set_ylabel(' ')\n",
    "ax[1].set_xlabel(' ')\n",
    "\n",
    "# Setting aesthetics\n",
    "plt.tight_layout()\n",
    "plt.show()"
   ]
  },
  {
   "cell_type": "markdown",
   "id": "eb4ea795",
   "metadata": {},
   "source": [
    "### Observations:"
   ]
  },
  {
   "cell_type": "markdown",
   "id": "689d0a45",
   "metadata": {},
   "source": [
    "#### • Target variable shows an almost normal distribution of values with 2 distinct plateaus on either side"
   ]
  },
  {
   "cell_type": "markdown",
   "id": "aa785a6e",
   "metadata": {},
   "source": [
    "#### • Q1 of target variable lies at around 3000 and Q3 at around 6000. IQ thus is approximately 3000 with median at around 4500 value"
   ]
  },
  {
   "cell_type": "markdown",
   "id": "f5d0e6b4",
   "metadata": {},
   "source": [
    "### Section 3.1.2: Continous Independent Variables"
   ]
  },
  {
   "cell_type": "code",
   "execution_count": 13,
   "id": "90d0cf3b",
   "metadata": {},
   "outputs": [],
   "source": [
    "# creating a lsit of continous independent variables for analytics\n",
    "cont_var= [i for i in boombikes.select_dtypes(exclude= 'object').columns if boombikes[i].nunique() > 2 and i != 'cnt']"
   ]
  },
  {
   "cell_type": "code",
   "execution_count": 14,
   "id": "639b0648",
   "metadata": {},
   "outputs": [
    {
     "data": {
      "image/png": "[encoded data removed]",
      "text/plain": [
       "<Figure size 864x360 with 6 Axes>"
      ]
     },
     "metadata": {
      "needs_background": "light"
     },
     "output_type": "display_data"
    }
   ],
   "source": [
    "# creating a subplot grid\n",
    "fig, ax= plt.subplots(nrows= 1, ncols=len(cont_var), figsize= (12,5))\n",
    "\n",
    "# placing main title\n",
    "plt.suptitle('boxplots showing basic weather trends'.upper(), fontsize= 20)\n",
    "\n",
    "# looping to fill subplot grid with plots\n",
    "for i in range(len(cont_var)):\n",
    "    sns.boxplot(y=boombikes[cont_var[i]], ax= ax[i], palette= 'Purples')\n",
    "    \n",
    "    #setting aesthetics and readablity\n",
    "    ax[i].set_title(f'{cont_var[i].upper()}', fontsize= 15)\n",
    "    ax[i].set_ylabel(' ')\n",
    "    \n",
    "# Setting final aesthetics\n",
    "plt.tight_layout()\n",
    "plt.show()"
   ]
  },
  {
   "cell_type": "markdown",
   "id": "73a4196d",
   "metadata": {},
   "source": [
    "### Observations: "
   ]
  },
  {
   "cell_type": "markdown",
   "id": "2d1100a1",
   "metadata": {},
   "source": [
    "#### • Q1 and Q3 of temp is distributed between 14 and 27 with median as 21"
   ]
  },
  {
   "cell_type": "markdown",
   "id": "c83cceb7",
   "metadata": {},
   "source": [
    "#### • Q1 and Q3 of temp is distributed between 17 and 31 with median as 24 "
   ]
  },
  {
   "cell_type": "markdown",
   "id": "f78145c2",
   "metadata": {},
   "source": [
    "#### • Humidity and windspeed have shown presence of outliers and casual"
   ]
  },
  {
   "cell_type": "markdown",
   "id": "840bd46d",
   "metadata": {},
   "source": [
    "#### • Temp and Atemp appear to be almost normally distributed"
   ]
  },
  {
   "cell_type": "code",
   "execution_count": 15,
   "id": "f074fc63",
   "metadata": {},
   "outputs": [
    {
     "data": {
      "image/png": "[encoded data removed]",
      "text/plain": [
       "<Figure size 1440x360 with 6 Axes>"
      ]
     },
     "metadata": {
      "needs_background": "light"
     },
     "output_type": "display_data"
    },
    {
     "data": {
      "image/png": "[encoded data removed]",
      "text/plain": [
       "<Figure size 360x360 with 1 Axes>"
      ]
     },
     "metadata": {
      "needs_background": "light"
     },
     "output_type": "display_data"
    },
    {
     "data": {
      "image/png": "[encoded data removed]",
      "text/plain": [
       "<Figure size 360x360 with 1 Axes>"
      ]
     },
     "metadata": {
      "needs_background": "light"
     },
     "output_type": "display_data"
    },
    {
     "data": {
      "image/png": "[encoded data removed]",
      "text/plain": [
       "<Figure size 360x360 with 1 Axes>"
      ]
     },
     "metadata": {
      "needs_background": "light"
     },
     "output_type": "display_data"
    },
    {
     "data": {
      "image/png": "[encoded data removed]",
      "text/plain": [
       "<Figure size 360x360 with 1 Axes>"
      ]
     },
     "metadata": {
      "needs_background": "light"
     },
     "output_type": "display_data"
    },
    {
     "data": {
      "image/png": "[encoded data removed]",
      "text/plain": [
       "<Figure size 360x360 with 1 Axes>"
      ]
     },
     "metadata": {
      "needs_background": "light"
     },
     "output_type": "display_data"
    },
    {
     "data": {
      "image/png": "[encoded data removed]",
      "text/plain": [
       "<Figure size 360x360 with 1 Axes>"
      ]
     },
     "metadata": {
      "needs_background": "light"
     },
     "output_type": "display_data"
    }
   ],
   "source": [
    "# creating a subplot grid\n",
    "fig, ax= plt.subplots(nrows= 1, ncols= len(cont_var), figsize= (20,5))\n",
    "\n",
    "# placing main title\n",
    "plt.suptitle('displots showing weather trends'.upper(), fontsize= 20)\n",
    "\n",
    "# looping to fill subplot grid with plots\n",
    "for i in range(len(cont_var)):\n",
    "    sns.displot(boombikes[cont_var[i]], ax= ax[i], color= 'purple')\n",
    "    \n",
    "     #setting aesthetics and readablity\n",
    "    ax[i].set_title(f'{cont_var[i].upper()}', fontsize= 15)\n",
    "    ax[i].set_ylabel(' ')\n",
    "    \n",
    "# Setting final aesthetics\n",
    "plt.tight_layout()\n",
    "plt.show()"
   ]
  },
  {
   "cell_type": "markdown",
   "id": "b8d31707",
   "metadata": {},
   "source": [
    "### Observations:"
   ]
  },
  {
   "cell_type": "markdown",
   "id": "5fe610de",
   "metadata": {},
   "source": [
    "#### *Above distplot prove our earlier intuitive understanding of variables as incorrect - Temp and atemp have shown double peaks."
   ]
  },
  {
   "cell_type": "markdown",
   "id": "d2b34f10",
   "metadata": {},
   "source": [
    "#### *Humidity and Windspeed are left and right skewed respectively."
   ]
  },
  {
   "cell_type": "markdown",
   "id": "0a6eea94",
   "metadata": {},
   "source": [
    "#### *Casual shows high right skew."
   ]
  },
  {
   "cell_type": "markdown",
   "id": "f1a14dfb",
   "metadata": {},
   "source": [
    "#### *Registered shows similar trend as target variable but plateaus on either side are relatively smoother. "
   ]
  },
  {
   "cell_type": "markdown",
   "id": "5aa3233d",
   "metadata": {},
   "source": [
    "## Section 3.1.3: Categorical Independent Variables"
   ]
  },
  {
   "cell_type": "code",
   "execution_count": 16,
   "id": "a8c398b5",
   "metadata": {},
   "outputs": [],
   "source": [
    "# creating a list of categorical independent variables for analysis\n",
    "cat_var= [i for i in boombikes.select_dtypes(include= 'object').columns]\n",
    "cat_var.extend([i for i in boombikes.columns if boombikes[i].nunique() == 2])"
   ]
  },
  {
   "cell_type": "code",
   "execution_count": 17,
   "id": "9d6047e7",
   "metadata": {},
   "outputs": [
    {
     "ename": "IndexError",
     "evalue": "index 3 is out of bounds for axis 1 with size 3",
     "output_type": "error",
     "traceback": [
      "\u001b[1;31m---------------------------------------------------------------------------\u001b[0m",
      "\u001b[1;31mIndexError\u001b[0m                                Traceback (most recent call last)",
      "Input \u001b[1;32mIn [17]\u001b[0m, in \u001b[0;36m<cell line: 9>\u001b[1;34m()\u001b[0m\n\u001b[0;32m      9\u001b[0m \u001b[38;5;28;01mfor\u001b[39;00m i \u001b[38;5;129;01min\u001b[39;00m \u001b[38;5;28mrange\u001b[39m(\u001b[38;5;241m2\u001b[39m):\n\u001b[0;32m     10\u001b[0m     \u001b[38;5;28;01mfor\u001b[39;00m j \u001b[38;5;129;01min\u001b[39;00m \u001b[38;5;28mrange\u001b[39m(\u001b[38;5;28mint\u001b[39m(\u001b[38;5;28mlen\u001b[39m(cat_var)\u001b[38;5;241m/\u001b[39m\u001b[38;5;241m2\u001b[39m)):\n\u001b[1;32m---> 11\u001b[0m         sns\u001b[38;5;241m.\u001b[39mcountplot(boombikes[cat_var[k]], ax\u001b[38;5;241m=\u001b[39m \u001b[43max\u001b[49m\u001b[43m[\u001b[49m\u001b[43mi\u001b[49m\u001b[43m,\u001b[49m\u001b[43m \u001b[49m\u001b[43mj\u001b[49m\u001b[43m]\u001b[49m, palette\u001b[38;5;241m=\u001b[39m \u001b[38;5;124m'\u001b[39m\u001b[38;5;124mPurples\u001b[39m\u001b[38;5;124m'\u001b[39m)\n\u001b[0;32m     13\u001b[0m         \u001b[38;5;66;03m#setting aesthetics and readability\u001b[39;00m\n\u001b[0;32m     14\u001b[0m         ax[i,j]\u001b[38;5;241m.\u001b[39mset_title(\u001b[38;5;124mf\u001b[39m\u001b[38;5;124m'\u001b[39m\u001b[38;5;132;01m{\u001b[39;00mcat_var[k]\u001b[38;5;241m.\u001b[39mupper()\u001b[38;5;132;01m}\u001b[39;00m\u001b[38;5;124m'\u001b[39m, fontsize\u001b[38;5;241m=\u001b[39m \u001b[38;5;241m15\u001b[39m)\n",
      "\u001b[1;31mIndexError\u001b[0m: index 3 is out of bounds for axis 1 with size 3"
     ]
    },
    {
     "data": {
      "image/png": "[encoded data removed]",
      "text/plain": [
       "<Figure size 1440x648 with 6 Axes>"
      ]
     },
     "metadata": {
      "needs_background": "light"
     },
     "output_type": "display_data"
    }
   ],
   "source": [
    "# creating a subplot grid\n",
    "fig, ax= plt.subplots(nrows= 2, ncols= int(len(cont_var)/2), figsize= (20,9))\n",
    "\n",
    "#placing main title\n",
    "plt.suptitle('countplots showing trends in categorical independent variables'.upper(), fontsize= 20, fontweight= 20, y=  0.99)\n",
    "\n",
    "#looping to fill subplot grid with plots\n",
    "k= 0\n",
    "for i in range(2):\n",
    "    for j in range(int(len(cat_var)/2)):\n",
    "        sns.countplot(boombikes[cat_var[k]], ax= ax[i, j], palette= 'Purples')\n",
    "        \n",
    "        #setting aesthetics and readability\n",
    "        ax[i,j].set_title(f'{cat_var[k].upper()}', fontsize= 15)\n",
    "        ax[i,j].set_ylabel(' ')\n",
    "        ax[i,j].set_xlabel(' ')\n",
    "        \n",
    "        k+=1\n",
    "        \n",
    "#setting final aesthetics\n",
    "plt.tight_layout()\n",
    "plt.show()"
   ]
  },
  {
   "cell_type": "markdown",
   "id": "dc246bc8",
   "metadata": {},
   "source": [
    "### Observations:"
   ]
  },
  {
   "cell_type": "markdown",
   "id": "6a3b7520",
   "metadata": {},
   "source": [
    "#### • Fall is found to be the longest season, followed by summer, followed by Spring. Shortest season is winter."
   ]
  },
  {
   "cell_type": "markdown",
   "id": "67d1b493",
   "metadata": {},
   "source": [
    "#### • Weathersit shows just 3 types of weathers. There is not even a single day on which Heavy rain/ snow has occured. Weather has been clear OR partly cloudy for most of the days in both years. "
   ]
  },
  {
   "cell_type": "markdown",
   "id": "e46cf3b4",
   "metadata": {},
   "source": [
    "#### • The peculier combination of Season and Weathersit also shows the location of the city in dataset is in tropical region with limited rainfall and is akin to the weather of one of the west coastal cities of US somewhere in California (Ex: Los Angeles/ San Francisco etc. This statement is further supported by the observed data of humidity, temp and atemp. "
   ]
  },
  {
   "cell_type": "markdown",
   "id": "85e6d63a",
   "metadata": {},
   "source": [
    "## Section 3.2: Bivariate Analysis "
   ]
  },
  {
   "cell_type": "markdown",
   "id": "7ec137b9",
   "metadata": {},
   "source": [
    "### Section 3.2.1: Continous Independent Variables"
   ]
  },
  {
   "cell_type": "code",
   "execution_count": null,
   "id": "04878e2d",
   "metadata": {},
   "outputs": [],
   "source": [
    "# creating a subplot grid\n",
    "fig, ax= plt.subplots(nrows= 2, ncols= int(len(cont_var)/2), figsize= (20,9))\n",
    "\n",
    "#placing main title\n",
    "plt.suptitle('relationship of continous variables with target variable'.upper(), fontsize=20, fontweight= 20, y=0.99)\n",
    "\n",
    "#looping to fill subplot grid with plots\n",
    "k= 0\n",
    "for i in range(2):\n",
    "    for j in range(int(len(cont_var)/2)):\n",
    "        sns.regplot(x= boombikes[cont_var[k]], y=boombikes['cnt'], ax= ax[i, j],\n",
    "                                 scatter_kws= {'color': 'yellow'}, line_kws= {'color': 'purple'})\n",
    "        \n",
    "        # setting aesthetics and readbility\n",
    "        ax[i,j].set_title(f'{cont_var[k].upper()}', fontsize= 15)\n",
    "        ax[i,j].set_ylabel(' ')\n",
    "        ax[i,j].set_xlabel(' ')\n",
    "        \n",
    "        k+=1\n",
    "                                 \n",
    "# Setting final aesthetics\n",
    "plt.tight_layout()\n",
    "plt.show()            \n"
   ]
  },
  {
   "cell_type": "markdown",
   "id": "892ca8b7",
   "metadata": {},
   "source": [
    "### Observations:"
   ]
  },
  {
   "cell_type": "markdown",
   "id": "75f29dd6",
   "metadata": {},
   "source": [
    "#### •Bike demand shows a similar and directly proportional relationship with temp and atemp "
   ]
  },
  {
   "cell_type": "markdown",
   "id": "ee1f1cd8",
   "metadata": {},
   "source": [
    "#### • Bike demand shows inverse proportionality with Humidity and Windspeed."
   ]
  },
  {
   "cell_type": "markdown",
   "id": "39afa1b4",
   "metadata": {},
   "source": [
    "#### •Bike demand is directly proportional to Casual and Registered numbers."
   ]
  },
  {
   "cell_type": "markdown",
   "id": "80ac3bd9",
   "metadata": {},
   "source": [
    "#### • Bike demand is very well explained by the registered users. "
   ]
  },
  {
   "cell_type": "markdown",
   "id": "b8a7eb04",
   "metadata": {},
   "source": [
    "### Section 3.2.2: Categorical Independent Variables"
   ]
  },
  {
   "cell_type": "code",
   "execution_count": null,
   "id": "cf56f397",
   "metadata": {},
   "outputs": [],
   "source": [
    "# creating a subplot grid\n",
    "fig, ax= plt.subplots(nrows= 2, ncols= int(len(cat_var)/2), figsize= (20,12))\n",
    "\n",
    "#placing main title\n",
    "plt.suptitle('relationship of categorical variables with target variable'.upper(), fontsize=20, fontweight= 15, y=0.99)\n",
    "\n",
    "#looping to fill subplot grid with plots\n",
    "k= 0\n",
    "for i in range(2):\n",
    "    for j in range(int(len(cont_var)/2)):\n",
    "        sns.barplot(y= boombikes.groupby(by= cat_var[k]).mean()['cnt'],\n",
    "                    x= boombikes.groupby(by= cat_var[k]).mean().index, ax= ax[i, j], palette= 'Purples')\n",
    "                                                            \n",
    "        # Setting aesthetics and readability\n",
    "        ax[i,j].set_title(f'{cat_var[k].upper()}', fontsize= 15)\n",
    "        ax[i,j].set_ylabel(' ')\n",
    "        ax[i,j].set_xlabel(' ')\n",
    "                                                                \n",
    "        k+=1\n",
    "                                                                \n",
    "# Setting final aesthetics\n",
    "plt.tight_layout()\n",
    "plt.show()"
   ]
  },
  {
   "cell_type": "markdown",
   "id": "fc3c307e",
   "metadata": {},
   "source": [
    "### Observations :"
   ]
  },
  {
   "cell_type": "markdown",
   "id": "a57aca69",
   "metadata": {},
   "source": [
    "#### • Maximum demand noticed in Fall Season followed by Summer and Winter. Spring season shows a steep decrease in demand."
   ]
  },
  {
   "cell_type": "markdown",
   "id": "e75b01f7",
   "metadata": {},
   "source": [
    "#### • Months of Aug, Jun and Sep display highest demand trend followed by the months of Jul, May and Oct. This effectively defines a six month period from May till October that can be classified as high demand period. Months seem to show a drastic imapct on business."
   ]
  },
  {
   "cell_type": "markdown",
   "id": "20b4664e",
   "metadata": {},
   "source": [
    "#### • Highest demand traction observed on Friday, Saturday, Sunday and Thursday. This effectively shows that the usage of bikes have been for mixed use (For office as well as leisure travel) "
   ]
  },
  {
   "cell_type": "markdown",
   "id": "9a0f910e",
   "metadata": {},
   "source": [
    "#### • Demand is exceptionally high on clear days "
   ]
  },
  {
   "cell_type": "markdown",
   "id": "9e0301d2",
   "metadata": {},
   "source": [
    "#### • Company has shown significant business increase from 2018 to 2019"
   ]
  },
  {
   "cell_type": "markdown",
   "id": "a7388c64",
   "metadata": {},
   "source": [
    "#### • Usage of cycle on holidays is slightly lower then weekdays"
   ]
  },
  {
   "cell_type": "markdown",
   "id": "d34feb6f",
   "metadata": {},
   "source": [
    "#### • Usage is almost similar irrespective of being a working day or not."
   ]
  },
  {
   "cell_type": "markdown",
   "id": "b55076a9",
   "metadata": {},
   "source": [
    "### Demand comparison on Working Day and Non Working Day"
   ]
  },
  {
   "cell_type": "code",
   "execution_count": null,
   "id": "50657814",
   "metadata": {},
   "outputs": [],
   "source": [
    "plt.figure(figsize= (8,3))\n",
    "plt.title('plot showing relative comparison of demand on workingday(y/n)'.upper(), fontsize= 10)\n",
    "boombikes.groupby(by= 'workingday').mean()['cnt'].plot.bar(color= 'purple')\n",
    "plt.ylabel('average demand'.title(), fontsiz= 8)\n",
    "plt.xlabel('working day'.title(). fontsize= 8)\n",
    "plt.ylim(min(boombikes.groupby(by= 'workingday').mean()['cnt'])-200,\n",
    "         max(boombikes.groupby(by= 'workingday').mean()['cnt'])+200)\n",
    "plt.show()"
   ]
  },
  {
   "cell_type": "markdown",
   "id": "d250210c",
   "metadata": {},
   "source": [
    "### Observations:"
   ]
  },
  {
   "cell_type": "markdown",
   "id": "b0d2d810",
   "metadata": {},
   "source": [
    "#### • Usage is found to be higher on non-working days."
   ]
  },
  {
   "cell_type": "markdown",
   "id": "2adc9307",
   "metadata": {},
   "source": [
    "####  • Since the demand-fall on weekdays is limited to close to 3%, the demand gap is minimal."
   ]
  },
  {
   "cell_type": "markdown",
   "id": "792efc1a",
   "metadata": {},
   "source": [
    "####  •  Recall our previous visualization that highlights the reason for this - More number of sluggish demand days during weekdays are pulling this average down whereas robust demand on all days of weekends pull the average demand higher."
   ]
  },
  {
   "cell_type": "markdown",
   "id": "376cc6c1",
   "metadata": {},
   "source": [
    "### Section 3.2.3: Seasonwise variation in weather related continuous variables"
   ]
  },
  {
   "cell_type": "code",
   "execution_count": null,
   "id": "373717a1",
   "metadata": {},
   "outputs": [],
   "source": [
    "# Intializing feature list for weather related continous variables:\n",
    "weather_var= ['temp', 'atemp', 'hum', 'windspeed']"
   ]
  },
  {
   "cell_type": "code",
   "execution_count": null,
   "id": "1cfd32e9",
   "metadata": {},
   "outputs": [],
   "source": [
    "# creating a subplot grid\n",
    "fig, ax= plt.subplots(nrows= 1, ncols= len(weather_var), figsize= (20,5))\n",
    "\n",
    "# placing main title\n",
    "plt.suptitle('analysing seasonal variation in weather related continous variables'.upper(), fontsize= 20, fontweight= 15, y= 0.99)\n",
    "\n",
    "# looping to fill subplot grid with plots\n",
    "for i in range(len(weather_var)):\n",
    "    sns.barplot(y= boombikes.groupby(by= 'season').mean()[weather_var[i]],\n",
    "                x= boombikes.groupby(by= 'season').mean().index, ax= ax[i],palette = 'Purples')\n",
    "     # Setting aesthetics and readability\n",
    "    ax[i].set_title(f'{weather_var[i].upper()}', fontsize= 15)\n",
    "    ax[i].set_ylabel(' ')\n",
    "    ax[i].set_xlabel(' ')\n",
    "                                            \n",
    "                                                                \n",
    "# Setting final aesthetics\n",
    "plt.tight_layout()\n",
    "plt.show()"
   ]
  },
  {
   "cell_type": "markdown",
   "id": "a26e1633",
   "metadata": {},
   "source": [
    "### Observations:"
   ]
  },
  {
   "cell_type": "markdown",
   "id": "28b9a3b7",
   "metadata": {},
   "source": [
    "#### • Weather variables have shown an unusual patter wherein the average temperature and average temperature feeling is found to be highest in fall season followed by summer season."
   ]
  },
  {
   "cell_type": "markdown",
   "id": "591cfd15",
   "metadata": {},
   "source": [
    "#### •Instead of winter, spring shows relatively lower average temperature and average temperature feeling."
   ]
  },
  {
   "cell_type": "markdown",
   "id": "16c4f7d1",
   "metadata": {},
   "source": [
    "#### • Humidity is found to be highest in winter season followed by fall, summer and spring."
   ]
  },
  {
   "cell_type": "markdown",
   "id": "c5513219",
   "metadata": {},
   "source": [
    "#### • Windspeed is found to be highest in spring. followed by summer."
   ]
  },
  {
   "cell_type": "markdown",
   "id": "2f364d60",
   "metadata": {},
   "source": [
    "### Below is a reference table that shows seasonwise and monthwise variation of continuous weather features"
   ]
  },
  {
   "cell_type": "code",
   "execution_count": null,
   "id": "bdea58a7",
   "metadata": {},
   "outputs": [],
   "source": [
    "boombikes.groupby(by= ['season', 'mnth']).mean()"
   ]
  },
  {
   "cell_type": "markdown",
   "id": "80047e69",
   "metadata": {},
   "source": [
    "### Section 3.2.4: weathersitwise variation in weather related continous variables"
   ]
  },
  {
   "cell_type": "code",
   "execution_count": null,
   "id": "82df71b7",
   "metadata": {},
   "outputs": [],
   "source": [
    "# creatng a subplot grid\n",
    "fig, ax= plt.subplots(nrows= 1, ncols = len(weather_var), figsize= (20,5))\n",
    "\n",
    "# placing main title\n",
    "plt.suptitle('analysing seasonal variation in weather related continous variables'.upper(), fontsize= 20, fontweight= 15, y= 0.99)\n",
    "\n",
    "# Looping to fill subplot grid with plots\n",
    "for i in range(len(weather_var)):\n",
    "    sns.barplot(y= boombikes.groupby(by= 'weathersit').mean()[weather_var[i]],\\\n",
    "                x= boombikes.groupby(by= 'weathersit').mean().index, ax= ax[i], palette= 'Purples')\n",
    "    \n",
    "   # Setting aesthetics and readability\n",
    "    ax[i].set_title(f'{weather_var[i].upper()}', fontsize= 15)\n",
    "    ax[i].set_ylabel(' ')\n",
    "    ax[i].set_xlabel(' ')\n",
    "                                            \n",
    "                                                                \n",
    "# Setting final aesthetics\n",
    "plt.tight_layout()\n",
    "plt.show()\n",
    "                "
   ]
  },
  {
   "cell_type": "markdown",
   "id": "47f4de17",
   "metadata": {},
   "source": [
    "### Observations:"
   ]
  },
  {
   "cell_type": "markdown",
   "id": "041aff9d",
   "metadata": {},
   "source": [
    "#### • Temp and Atemp show highest mean values when the skles are clear to partly cloudy followed by misty weather followed by Light rains. "
   ]
  },
  {
   "cell_type": "markdown",
   "id": "69233ed5",
   "metadata": {},
   "source": [
    "#### • Humidity is found to have highest mean values during light rains followed by misty weather followed by clear skies "
   ]
  },
  {
   "cell_type": "markdown",
   "id": "8fe0b286",
   "metadata": {},
   "source": [
    "#### • Windspeed has highest mean values during light rains. "
   ]
  },
  {
   "cell_type": "markdown",
   "id": "8dd3c2e9",
   "metadata": {},
   "source": [
    "### Section 3.2.5: Monthwise variation in weathersit"
   ]
  },
  {
   "cell_type": "code",
   "execution_count": null,
   "id": "e8277179",
   "metadata": {},
   "outputs": [],
   "source": [
    "# Defining figure size\n",
    "plt.figure(figsize= (20,7))\n",
    "\n",
    "# plotting\n",
    "sns.countplot('weathersit', data= boombikes, hue= 'mnth', palette= 'Wistia')\n",
    "\n",
    "# Adjusting lables and title\n",
    "plt.title('chart showing the monthly frequency of various weathersit'.upper(), fontsize= 20)\n",
    "plt.xlabel('weather type'.title())\n",
    "\n",
    "plt.show()"
   ]
  },
  {
   "cell_type": "markdown",
   "id": "d6e24229",
   "metadata": {},
   "source": [
    "### Observations:"
   ]
  },
  {
   "cell_type": "markdown",
   "id": "251df54b",
   "metadata": {},
   "source": [
    "#### •Overall, maximum number of days have been 'Clear to Partly Cloudy' followed by Misty and Cloudy"
   ]
  },
  {
   "cell_type": "markdown",
   "id": "d266c928",
   "metadata": {},
   "source": [
    "#### • July has shown the maximum occurance of clear to aprtly cloudy days followed by Jun and then Aug."
   ]
  },
  {
   "cell_type": "markdown",
   "id": "351e2975",
   "metadata": {},
   "source": [
    "#### • Maximum number of musty occurances have been observed in the month of December followed by Jan, Mar, May and Oct."
   ]
  },
  {
   "cell_type": "markdown",
   "id": "5fe04bb2",
   "metadata": {},
   "source": [
    "## Section 3.3: Intervariable Relationships"
   ]
  },
  {
   "cell_type": "markdown",
   "id": "37f55cea",
   "metadata": {},
   "source": [
    "### Section 3.3.1: Intervariable relationships using pairplot"
   ]
  },
  {
   "cell_type": "code",
   "execution_count": null,
   "id": "38985f5c",
   "metadata": {},
   "outputs": [],
   "source": [
    "sns.pairplot(boombikes, kind= 'reg', markers= '+', palette= 'Purples')\n",
    "plt.show()"
   ]
  },
  {
   "cell_type": "markdown",
   "id": "4e3c071b",
   "metadata": {},
   "source": [
    "### Observations:"
   ]
  },
  {
   "cell_type": "markdown",
   "id": "5ea436e7",
   "metadata": {},
   "source": [
    "#### • Target Variable:"
   ]
  },
  {
   "cell_type": "markdown",
   "id": "475cb5ee",
   "metadata": {},
   "source": [
    "####      (i) Direct proportionality with temp, atemp, casual and registered"
   ]
  },
  {
   "cell_type": "markdown",
   "id": "c81fc38d",
   "metadata": {},
   "source": [
    "#### (ii) Inverse proportionality with humidity and windspeed"
   ]
  },
  {
   "cell_type": "markdown",
   "id": "f930c72d",
   "metadata": {},
   "source": [
    "#### • Independent Variables"
   ]
  },
  {
   "cell_type": "markdown",
   "id": "67f5535f",
   "metadata": {},
   "source": [
    "#### (i) registered is directly proportional to temp, atemp, casual and inversely proportional with hum and windspeed\n",
    " "
   ]
  },
  {
   "cell_type": "markdown",
   "id": "35c900b4",
   "metadata": {},
   "source": [
    "#### (ii) casual is directly proportional to temp, atemp, casual, registered and inversely proportional with hum and windspeed"
   ]
  },
  {
   "cell_type": "markdown",
   "id": "bc017833",
   "metadata": {},
   "source": [
    "#### (iii) • windspeed is inversely proportional to temp, atemp and hum."
   ]
  },
  {
   "cell_type": "markdown",
   "id": "5d41cdc7",
   "metadata": {},
   "source": [
    "#### (iv)  • humidity is directly proportional to temp and atemp and inversely proportional to windspeed"
   ]
  },
  {
   "cell_type": "markdown",
   "id": "af388e47",
   "metadata": {},
   "source": [
    "#### Note:"
   ]
  },
  {
   "cell_type": "markdown",
   "id": "8d54a6fd",
   "metadata": {},
   "source": [
    "#### • Our target 'cnt' is a summation of casual and registered"
   ]
  },
  {
   "cell_type": "markdown",
   "id": "afdb59cd",
   "metadata": {},
   "source": [
    "#### • Based on above logic, features 'casual' and 'registered' can completely explain the target variable "
   ]
  },
  {
   "cell_type": "markdown",
   "id": "24f98a33",
   "metadata": {},
   "source": [
    "####  • Hence, dropping casual and registered features"
   ]
  },
  {
   "cell_type": "code",
   "execution_count": null,
   "id": "1a76196b",
   "metadata": {},
   "outputs": [],
   "source": [
    "boombikes.drop(labels= ['casual', 'registered'], axis=1, inplace= True)"
   ]
  },
  {
   "cell_type": "code",
   "execution_count": null,
   "id": "b7734635",
   "metadata": {},
   "outputs": [],
   "source": [
    "# Re-inspecting dataframe\n",
    "boombikes.head(2)"
   ]
  },
  {
   "cell_type": "markdown",
   "id": "251ccd9b",
   "metadata": {},
   "source": [
    "### Section 3.2: Intervariable relationships using heatmap"
   ]
  },
  {
   "cell_type": "code",
   "execution_count": null,
   "id": "62112ea5",
   "metadata": {},
   "outputs": [],
   "source": [
    "# Setting plot size\n",
    "plt.figure(figsize=(10,5))\n",
    "\n",
    "# plotting Heatmap\n",
    "sns.heatmap(boombikes.corr(), annot= True, cmap= \"Purples_r\")\n",
    "\n",
    "# setting title\n",
    "plt.title('heatmap depicting intervariable dependency'.upper(), fontsize= 18, y= 1)\n",
    "\n",
    "plt.show()"
   ]
  },
  {
   "cell_type": "markdown",
   "id": "3e42542b",
   "metadata": {},
   "source": [
    "#### Observations:"
   ]
  },
  {
   "cell_type": "markdown",
   "id": "79c24116",
   "metadata": {},
   "source": [
    "#### •Above heatmaps reconfirms our previous observations made from pairplot"
   ]
  },
  {
   "cell_type": "markdown",
   "id": "561ae9c7",
   "metadata": {},
   "source": [
    "#### •Extremely, high correlation between atemp and temp observed"
   ]
  },
  {
   "cell_type": "markdown",
   "id": "69ec1e7e",
   "metadata": {},
   "source": [
    "### Section 3.4: Analysis of Growth Over Last Year (GOLY) of 2019"
   ]
  },
  {
   "cell_type": "code",
   "execution_count": null,
   "id": "383efc8b",
   "metadata": {},
   "outputs": [],
   "source": [
    "# creating fresh dataframe showing monthly demand growth over last year\n",
    "growth_pd = boombikes.pivot_table(index= 'mnth', columns='yr', values= 'cnt', aggfunc= 'mean')\n",
    "\n",
    "# Amending column names\n",
    "growth_pd.columns= ['2018', '2019']\n",
    "\n",
    "# % growth column\n",
    "growth_pd['percent growth']= round(((growth_pd['2019'] - growth_pd['2018'])/growth_pd['2018'])*100,2)\n",
    "\n",
    "# Sorting dataframe\n",
    "growth_pd= growth_pd.sort_values(by= 'percent growth', ascending= False)\n",
    "\n",
    "# observing the final results\n",
    "growth_pd"
   ]
  },
  {
   "cell_type": "markdown",
   "id": "57128870",
   "metadata": {},
   "source": [
    "### Observations: "
   ]
  },
  {
   "cell_type": "markdown",
   "id": "1a959fae",
   "metadata": {},
   "source": [
    "#### • Tremendous business growth shown in 2019 over 2018."
   ]
  },
  {
   "cell_type": "markdown",
   "id": "8f39bbc8",
   "metadata": {},
   "source": [
    "#### • 100+% growth observed in the months of Jan. Feb and March"
   ]
  },
  {
   "cell_type": "markdown",
   "id": "b1363a73",
   "metadata": {},
   "source": [
    "## Section 4: Logic Note for further model development approach"
   ]
  },
  {
   "cell_type": "markdown",
   "id": "bd28a62b",
   "metadata": {},
   "source": [
    "#### Machine Learning Problem:"
   ]
  },
  {
   "cell_type": "markdown",
   "id": "506c452f",
   "metadata": {},
   "source": [
    "####  • Relationship of target variable found with temp, temp, humidity and windspeed in pairplots."
   ]
  },
  {
   "cell_type": "markdown",
   "id": "b4f79e79",
   "metadata": {},
   "source": [
    "#### • Target variable found to be correlated with date, work_stat, season, month as depicted in earlier barplots."
   ]
  },
  {
   "cell_type": "markdown",
   "id": "80b846c5",
   "metadata": {},
   "source": [
    "#### • Based on above, It is proven that this qualifies as a Mächine Learning problem since the outcome depends on independent features and historical records\n"
   ]
  },
  {
   "cell_type": "markdown",
   "id": "ae69bba2",
   "metadata": {},
   "source": [
    "#### Supervised Unsupervised:"
   ]
  },
  {
   "cell_type": "markdown",
   "id": "4a778862",
   "metadata": {},
   "source": [
    "#### • We have target variable available with us and hence it is a Supervised Learning problem."
   ]
  },
  {
   "cell_type": "markdown",
   "id": "c4f6e4d3",
   "metadata": {},
   "source": [
    "#### Regression:"
   ]
  },
  {
   "cell_type": "markdown",
   "id": "1d457299",
   "metadata": {},
   "source": [
    "#### • Given target variable (ct) is continuous and hence, this problem qualifies to be a regression problem"
   ]
  },
  {
   "cell_type": "markdown",
   "id": "95f88559",
   "metadata": {},
   "source": [
    "####  Multiple Independent Features:"
   ]
  },
  {
   "cell_type": "markdown",
   "id": "c1a47644",
   "metadata": {},
   "source": [
    "#### •  From given EDA, we now kow that target variable is dependent on multiple features. Hence, this problem qualifies to be a Multiple Linear Regression problem."
   ]
  },
  {
   "cell_type": "markdown",
   "id": "3b1d03ca",
   "metadata": {},
   "source": [
    "## Section 5: Using Multiple Linear Regression for Model Development"
   ]
  },
  {
   "cell_type": "code",
   "execution_count": null,
   "id": "dde9fc3d",
   "metadata": {},
   "outputs": [],
   "source": [
    "# Re-Inspection of data\n",
    "\n",
    "boombikes.head()"
   ]
  },
  {
   "cell_type": "markdown",
   "id": "532809a7",
   "metadata": {},
   "source": [
    "#### Observations:"
   ]
  },
  {
   "cell_type": "markdown",
   "id": "0272a622",
   "metadata": {},
   "source": [
    "#### • yr, holiday, workingday are binary variables"
   ]
  },
  {
   "cell_type": "markdown",
   "id": "514ef4ad",
   "metadata": {},
   "source": [
    "## Section 5.1: Creating Dummy Variables"
   ]
  },
  {
   "cell_type": "code",
   "execution_count": null,
   "id": "956c3208",
   "metadata": {},
   "outputs": [],
   "source": [
    "# creating new dataframe for ML algorithm (Deep copy of boombikes):\n",
    "boombikes_ml = boombikes.copy()"
   ]
  },
  {
   "cell_type": "code",
   "execution_count": null,
   "id": "1d110cec",
   "metadata": {},
   "outputs": [],
   "source": [
    "# creating a list of features that need to be converted to dummy variable:\n",
    "\n",
    "dummy_list = [i for i in boombikes_ml.select_dtypes(include= 'object').columns]\n",
    "\n",
    "# creating dummies\n",
    "\n",
    "for i in dummy_list:\n",
    "    my_d= pd.get_dummies(data= boombikes_ml[i], drop_first= True)\n",
    "    boombikes_ml= pd.concat([boombikes_ml, my_d], axis= 1).drop(labels= i, axis= 1)"
   ]
  },
  {
   "cell_type": "code",
   "execution_count": null,
   "id": "000b131a",
   "metadata": {},
   "outputs": [],
   "source": [
    "# Re Inspecting Dataframe\n",
    "boombikes_ml.head()"
   ]
  },
  {
   "cell_type": "code",
   "execution_count": null,
   "id": "47f0578e",
   "metadata": {},
   "outputs": [],
   "source": [
    "print(f'our new dataset post dummy creation has {boombikes_ml.shape[0]} rows and {boombikes_ml.shape[1]} columns.')"
   ]
  },
  {
   "cell_type": "markdown",
   "id": "8d33bb67",
   "metadata": {},
   "source": [
    "### Section 5.2.1: Heatmap"
   ]
  },
  {
   "cell_type": "code",
   "execution_count": null,
   "id": "bb142fb8",
   "metadata": {},
   "outputs": [],
   "source": [
    "# Re-plotting heatmap\n",
    "\n",
    "plt.figure(figsize=(20,12))\n",
    "plt.title('heatmap depicitng intervariable dependency post dummy variable creation'.upper(), fontsize= 18, y= 1)\n",
    "sns.heatmap(boombikes_ml.corr(), annot= True, cmap= 'Purples_r', fmt= '.2g')\n",
    "plt.show()"
   ]
  },
  {
   "cell_type": "markdown",
   "id": "74f74988",
   "metadata": {},
   "source": [
    "#### Note:"
   ]
  },
  {
   "cell_type": "markdown",
   "id": "572316a7",
   "metadata": {},
   "source": [
    "#### • Heatmap has become very dense due to high number of variables and limitation of display space"
   ]
  },
  {
   "cell_type": "markdown",
   "id": "94f1efa7",
   "metadata": {},
   "source": [
    "#### • We will depict high level of positive and negative correlation in following dataframe "
   ]
  },
  {
   "cell_type": "markdown",
   "id": "3a0d3913",
   "metadata": {},
   "source": [
    "### Section 5.2.2: Dataframe highlighting Intervariable Relationships"
   ]
  },
  {
   "cell_type": "code",
   "execution_count": null,
   "id": "e7507666",
   "metadata": {},
   "outputs": [],
   "source": [
    "# Initiating variables:\n",
    "\n",
    "col_list= []\n",
    "ind_list= []\n",
    "corr_type= []\n",
    "corr_strength= []\n",
    "corr_lists= []\n",
    "\n",
    "# Developing loop\n",
    "\n",
    "for i in range(len(boombikes_ml.corr().columns)):\n",
    "    for j in range(len(boombikes_ml.corr().index)):\n",
    "        \n",
    "        if boombikes_ml.corr().columns[i] != boombikes_ml.corr().index[j] and boombikes_ml.corr().iloc[i,j] != 0:\n",
    "            \n",
    "            if boombikes_ml.corr().iloc[i,j] < 0:\n",
    "                \n",
    "                if boombikes_ml.corr().iloc[i, j] <= -0.7:\n",
    "                    col_list.append(boombikes_ml.corr().columns[i])\n",
    "                    ind_list.append(boombikes_ml.corr().index[j])\n",
    "                    corr_type.append('Negative')\n",
    "                    corr_strength.append('Strong')\n",
    "                    corr_list.append(round(boombikes_ml.corr().iloc[i,j], 2)\n",
    "                                     \n",
    "                elif boombikes_ml.corr().iloc[i,j] < -0.3:\n",
    "                    col_list.append(boombikes_ml.corr().columns[i])\n",
    "                    ind_list.append(boombikes_ml.corr().index[j])\n",
    "                    corr_type.append('Negative')\n",
    "                    corr_strength.append('Medium')\n",
    "                    corr_list.append(round(boombikes_ml.corr().iloc[i,j], 2)\n",
    "                \n",
    "            else:\n",
    "                \n",
    "                if boombikes_ml.corr().iloc[i,j] > = 0.7:\n",
    "                    col_list.append(boombikes_ml.corr().columns[i])\n",
    "                    ind_list.append(boombikes_ml.corr().index[j])\n",
    "                    corr_type.append('Positive')\n",
    "                    corr_strength.append('Strong')\n",
    "                    corr_list.append(round(boombikes_ml.corr().iloc[i,j],2))\n",
    "                   \n",
    "                elif boombikes_ml.corr().iloc[i,j] > = 0.3:\n",
    "                    col_list.append(boombikes_ml.corr().columns[i])\n",
    "                    ind_list.append(boombikes_ml.corr().index[j])\n",
    "                    corr_type.append('Positive')\n",
    "                    corr_strength.append('Strong')\n",
    "                    corr_list.append(round(boombikes_ml.corr().iloc[i,j],2))\n",
    "                   "
   ]
  },
  {
   "cell_type": "code",
   "execution_count": null,
   "id": "1b2a58c4",
   "metadata": {},
   "outputs": [],
   "source": [
    "# New dataframe initialized to show intervariable relationships\n",
    "\n",
    "boombike_corr_df= pd.Dataframe({'Column1': col_list, 'Column2': ind_list, 'Relationship  Strength':corr_strength,\n",
    "                                'Relation Type': corr_type, 'Correlation C': corr_list})\n",
    "\n",
    "# Inspecting the dataframe\n",
    "boombike_corr_df"
   ]
  },
  {
   "cell_type": "markdown",
   "id": "6170dd61",
   "metadata": {},
   "source": [
    "#### Observations:"
   ]
  },
  {
   "cell_type": "markdown",
   "id": "41de7375",
   "metadata": {},
   "source": [
    "#### • Above table clearly shows the correlation where the variables are correlated."
   ]
  },
  {
   "cell_type": "markdown",
   "id": "f1d8ae65",
   "metadata": {},
   "source": [
    "#### Notes:"
   ]
  },
  {
   "cell_type": "markdown",
   "id": "84a4177f",
   "metadata": {},
   "source": [
    "#### •The degree and strength of association was taken as:"
   ]
  },
  {
   "cell_type": "markdown",
   "id": "a43225e6",
   "metadata": {},
   "source": [
    "#### • If correlation between variable pairs is between 0.3 to 0. 7 Medium Positive Correlation"
   ]
  },
  {
   "cell_type": "markdown",
   "id": "8bd2c6fa",
   "metadata": {},
   "source": [
    "#### • If correlation between variable pairs is > 0.7; Strong Positive Correlation , If correlation between variable pairs is between -0.3 to -0.7: Medium Negative Correlation"
   ]
  },
  {
   "cell_type": "markdown",
   "id": "72c548fa",
   "metadata": {},
   "source": [
    "#### • If correlation between variable pairs is < -0.7: Strong Negative Correlation"
   ]
  },
  {
   "cell_type": "markdown",
   "id": "06ad152f",
   "metadata": {},
   "source": [
    "### Section 5.3: Rescaling of data"
   ]
  },
  {
   "cell_type": "markdown",
   "id": "14df5461",
   "metadata": {},
   "source": [
    "#### Researcher had to chose from 2 of rescaling techniques:"
   ]
  },
  {
   "cell_type": "markdown",
   "id": "db09c7b3",
   "metadata": {},
   "source": [
    "#### • Normalization: Also, called Min Max Scaling. it compresses the features in the range between 0 and 1."
   ]
  },
  {
   "cell_type": "markdown",
   "id": "fcb20a52",
   "metadata": {},
   "source": [
    "#### • Standardization: It moves data on plot in such a way that mean becomes 0 and standard deviation becomes 1."
   ]
  },
  {
   "cell_type": "markdown",
   "id": "a65e8aa2",
   "metadata": {},
   "source": [
    "#### In this case, researcher has decided to use MinMax Scaler because:"
   ]
  },
  {
   "cell_type": "markdown",
   "id": "4007dc44",
   "metadata": {},
   "source": [
    "#### • As shown in previous secion of EDA, some of the features contained outliers. We have not handled those outliers till now and MinMaxScaler will automatically handle them."
   ]
  },
  {
   "cell_type": "markdown",
   "id": "9bcb57d8",
   "metadata": {},
   "source": [
    "#### • Distribution does not matter in our dataset."
   ]
  },
  {
   "cell_type": "markdown",
   "id": "5ce36e52",
   "metadata": {},
   "source": [
    "#### •  Presence of binary variables which are already in 0 and 1 form. So rest of the data can be scaled accordingly."
   ]
  },
  {
   "cell_type": "markdown",
   "id": "3b6a1e9c",
   "metadata": {},
   "source": [
    "#### MinMaxScaler uses Normalization formula of (X-Xmin)/(Xmax-Xmin) which basically translates the maximum data value as 1 and minimum data value as 0. Rest of the datapoints will remain between 1 and 0 based on relative context."
   ]
  },
  {
   "cell_type": "markdown",
   "id": "3bb966b9",
   "metadata": {},
   "source": [
    "#### Rescaling of data is done post the train test split because researcher does not want the scaler &/ or final model to know the test dataset."
   ]
  },
  {
   "cell_type": "markdown",
   "id": "1ad827ca",
   "metadata": {},
   "source": [
    "#### Applying MinMax Scaler based on abqe logic on train data"
   ]
  },
  {
   "cell_type": "code",
   "execution_count": null,
   "id": "aa9a86d9",
   "metadata": {},
   "outputs": [],
   "source": [
    "# creating a scaler instance\n",
    "scaler= MinMaxScaler()"
   ]
  },
  {
   "cell_type": "markdown",
   "id": "64b61de5",
   "metadata": {},
   "source": [
    "### Section 5.4: Splitting Training Dataset in X & y"
   ]
  },
  {
   "cell_type": "code",
   "execution_count": null,
   "id": "f5a60e97",
   "metadata": {},
   "outputs": [],
   "source": [
    "# Splitting in X and y\n",
    "\n",
    "y_train= bb_train.pop('cnt')\n",
    "x_train= bb_train"
   ]
  },
  {
   "cell_type": "code",
   "execution_count": null,
   "id": "3f659a84",
   "metadata": {},
   "outputs": [],
   "source": [
    "bb_train.head()"
   ]
  },
  {
   "cell_type": "code",
   "execution_count": 18,
   "id": "8affe577",
   "metadata": {},
   "outputs": [
    {
     "ename": "NameError",
     "evalue": "name 'X_train' is not defined",
     "output_type": "error",
     "traceback": [
      "\u001b[1;31m---------------------------------------------------------------------------\u001b[0m",
      "\u001b[1;31mNameError\u001b[0m                                 Traceback (most recent call last)",
      "Input \u001b[1;32mIn [18]\u001b[0m, in \u001b[0;36m<cell line: 2>\u001b[1;34m()\u001b[0m\n\u001b[0;32m      1\u001b[0m \u001b[38;5;66;03m# Inspecting shapes of X_train and y_train\u001b[39;00m\n\u001b[1;32m----> 2\u001b[0m \u001b[38;5;28mprint\u001b[39m(\u001b[38;5;124mf\u001b[39m\u001b[38;5;124m'\u001b[39m\u001b[38;5;124mX_train shape: \u001b[39m\u001b[38;5;132;01m{\u001b[39;00mX_train\u001b[38;5;241m.\u001b[39mshape\u001b[38;5;132;01m}\u001b[39;00m\u001b[38;5;124m, y_train shape: \u001b[39m\u001b[38;5;132;01m{\u001b[39;00my_train\u001b[38;5;241m.\u001b[39mshape\u001b[38;5;132;01m}\u001b[39;00m\u001b[38;5;124m'\u001b[39m)\n",
      "\u001b[1;31mNameError\u001b[0m: name 'X_train' is not defined"
     ]
    }
   ],
   "source": [
    "# Inspecting shapes of X_train and y_train\n",
    "print(f'X_train shape: {X_train.shape}, y_train shape: {y_train.shape}')"
   ]
  },
  {
   "cell_type": "markdown",
   "id": "2db216da",
   "metadata": {},
   "source": [
    "### Observations:"
   ]
  },
  {
   "cell_type": "markdown",
   "id": "f6eafc55",
   "metadata": {},
   "source": [
    "#### * Data has been properly split in X_train & y_train with both having 511 rows, X_train having 26 columns and y_train having 1 column."
   ]
  },
  {
   "cell_type": "markdown",
   "id": "424b5c74",
   "metadata": {},
   "source": [
    "### Section 5.4: Prediction"
   ]
  },
  {
   "cell_type": "code",
   "execution_count": 22,
   "id": "a88cda5d",
   "metadata": {},
   "outputs": [],
   "source": [
    "# Defining a function to find top 'n' features\n",
    "def nImportantFeatures(series, n):\n",
    "    series= series.sort_values(key= lambda x: abs(x), ascending= False)\n",
    "    return series.head(n)"
   ]
  },
  {
   "cell_type": "code",
   "execution_count": 23,
   "id": "0d186c6d",
   "metadata": {},
   "outputs": [
    {
     "ename": "NameError",
     "evalue": "name 'parameter_series' is not defined",
     "output_type": "error",
     "traceback": [
      "\u001b[1;31m---------------------------------------------------------------------------\u001b[0m",
      "\u001b[1;31mNameError\u001b[0m                                 Traceback (most recent call last)",
      "Input \u001b[1;32mIn [23]\u001b[0m, in \u001b[0;36m<cell line: 2>\u001b[1;34m()\u001b[0m\n\u001b[0;32m      1\u001b[0m \u001b[38;5;66;03m# Identifying all features in decreasing order of importance/ relevance\u001b[39;00m\n\u001b[1;32m----> 2\u001b[0m descending_importance\u001b[38;5;241m=\u001b[39m nImportantFeatures(\u001b[43mparameter_series\u001b[49m, \u001b[38;5;28mlen\u001b[39m(parameter_series))\n\u001b[0;32m      3\u001b[0m descending_importance\n",
      "\u001b[1;31mNameError\u001b[0m: name 'parameter_series' is not defined"
     ]
    }
   ],
   "source": [
    "# Identifying all features in decreasing order of importance/ relevance\n",
    "descending_importance= nImportantFeatures(parameter_series, len(parameter_series))\n",
    "descending_importance"
   ]
  },
  {
   "cell_type": "markdown",
   "id": "f77a95c3",
   "metadata": {},
   "source": [
    "#### Plotting all features on decreasing order of magnitude of importance "
   ]
  },
  {
   "cell_type": "code",
   "execution_count": 24,
   "id": "340e3667",
   "metadata": {},
   "outputs": [
    {
     "ename": "NameError",
     "evalue": "name 'descending_importance' is not defined",
     "output_type": "error",
     "traceback": [
      "\u001b[1;31m---------------------------------------------------------------------------\u001b[0m",
      "\u001b[1;31mNameError\u001b[0m                                 Traceback (most recent call last)",
      "Input \u001b[1;32mIn [24]\u001b[0m, in \u001b[0;36m<cell line: 5>\u001b[1;34m()\u001b[0m\n\u001b[0;32m      2\u001b[0m plt\u001b[38;5;241m.\u001b[39mfigure(figsize\u001b[38;5;241m=\u001b[39m (\u001b[38;5;241m18\u001b[39m,\u001b[38;5;241m5\u001b[39m))\n\u001b[0;32m      4\u001b[0m \u001b[38;5;66;03m#plotting\u001b[39;00m\n\u001b[1;32m----> 5\u001b[0m sns\u001b[38;5;241m.\u001b[39mbarplot(x\u001b[38;5;241m=\u001b[39m\u001b[43mdescending_importance\u001b[49m\u001b[38;5;241m.\u001b[39mindex, y\u001b[38;5;241m=\u001b[39m descending_importance\u001b[38;5;241m.\u001b[39mvalues, palette\u001b[38;5;241m=\u001b[39m \u001b[38;5;124m'\u001b[39m\u001b[38;5;124mPurples_r\u001b[39m\u001b[38;5;124m'\u001b[39m)\n\u001b[0;32m      7\u001b[0m \u001b[38;5;66;03m# Defining Plot title, X label and Y label\u001b[39;00m\n\u001b[0;32m      8\u001b[0m plt\u001b[38;5;241m.\u001b[39mtitle(\u001b[38;5;124m'\u001b[39m\u001b[38;5;124mall features in descending order of strength of their influence on target variable\u001b[39m\u001b[38;5;124m'\u001b[39m\u001b[38;5;241m.\u001b[39mupper(), fontsize\u001b[38;5;241m=\u001b[39m \u001b[38;5;241m20\u001b[39m)\n",
      "\u001b[1;31mNameError\u001b[0m: name 'descending_importance' is not defined"
     ]
    },
    {
     "data": {
      "text/plain": [
       "<Figure size 1296x360 with 0 Axes>"
      ]
     },
     "metadata": {},
     "output_type": "display_data"
    }
   ],
   "source": [
    "#Defining plot size\n",
    "plt.figure(figsize= (18,5))\n",
    "\n",
    "#plotting\n",
    "sns.barplot(x=descending_importance.index, y= descending_importance.values, palette= 'Purples_r')\n",
    "\n",
    "# Defining Plot title, X label and Y label\n",
    "plt.title('all features in descending order of strength of their influence on target variable'.upper(), fontsize= 20)\n",
    "plt.xlabel('features name'.title(), fontsize= 13)\n",
    "plt.ylabel('features strength'.title(), fontsize= 13)\n",
    "\n",
    "plt.show()"
   ]
  },
  {
   "cell_type": "markdown",
   "id": "7744ba43",
   "metadata": {},
   "source": [
    "## Section 6: Business Recommendations"
   ]
  },
  {
   "cell_type": "markdown",
   "id": "a2a2256c",
   "metadata": {},
   "source": [
    "#### Given equation is too complex for business decision making. Hence, we will consider top 5 predictors to generate absolutely essential buisness recommendations and will be more practical in nature based on which business recommendation will be made"
   ]
  },
  {
   "cell_type": "code",
   "execution_count": 25,
   "id": "7e8b91ca",
   "metadata": {},
   "outputs": [
    {
     "ename": "NameError",
     "evalue": "name 'nimportantfeatures' is not defined",
     "output_type": "error",
     "traceback": [
      "\u001b[1;31m---------------------------------------------------------------------------\u001b[0m",
      "\u001b[1;31mNameError\u001b[0m                                 Traceback (most recent call last)",
      "Input \u001b[1;32mIn [25]\u001b[0m, in \u001b[0;36m<cell line: 2>\u001b[1;34m()\u001b[0m\n\u001b[0;32m      1\u001b[0m \u001b[38;5;66;03m# Identifying Top 5 predictors\u001b[39;00m\n\u001b[1;32m----> 2\u001b[0m top_5_features\u001b[38;5;241m=\u001b[39m \u001b[43mnimportantfeatures\u001b[49m(parameter_series, \u001b[38;5;241m5\u001b[39m)\n\u001b[0;32m      3\u001b[0m top_5_features\n",
      "\u001b[1;31mNameError\u001b[0m: name 'nimportantfeatures' is not defined"
     ]
    }
   ],
   "source": [
    "# Identifying Top 5 predictors\n",
    "top_5_features= nimportantfeatures(parameter_series, 5)\n",
    "top_5_features"
   ]
  },
  {
   "cell_type": "markdown",
   "id": "da522ff8",
   "metadata": {},
   "source": [
    "#### Plotting the top 5 features based on feature strength"
   ]
  },
  {
   "cell_type": "code",
   "execution_count": 26,
   "id": "37cb0524",
   "metadata": {},
   "outputs": [
    {
     "ename": "NameError",
     "evalue": "name 'top_5_features' is not defined",
     "output_type": "error",
     "traceback": [
      "\u001b[1;31m---------------------------------------------------------------------------\u001b[0m",
      "\u001b[1;31mNameError\u001b[0m                                 Traceback (most recent call last)",
      "Input \u001b[1;32mIn [26]\u001b[0m, in \u001b[0;36m<cell line: 5>\u001b[1;34m()\u001b[0m\n\u001b[0;32m      2\u001b[0m plt\u001b[38;5;241m.\u001b[39mfigure(figsize\u001b[38;5;241m=\u001b[39m (\u001b[38;5;241m10\u001b[39m,\u001b[38;5;241m5\u001b[39m))\n\u001b[0;32m      4\u001b[0m \u001b[38;5;66;03m#plotting\u001b[39;00m\n\u001b[1;32m----> 5\u001b[0m sns\u001b[38;5;241m.\u001b[39mbarplot(x\u001b[38;5;241m=\u001b[39m \u001b[43mtop_5_features\u001b[49m\u001b[38;5;241m.\u001b[39mindex, y\u001b[38;5;241m=\u001b[39m top_5_features, palette\u001b[38;5;241m=\u001b[39m \u001b[38;5;124m'\u001b[39m\u001b[38;5;124mPurples_r\u001b[39m\u001b[38;5;124m'\u001b[39m)\n\u001b[0;32m      7\u001b[0m \u001b[38;5;66;03m# Defining Plot title, X label and Y label\u001b[39;00m\n\u001b[0;32m      8\u001b[0m plt\u001b[38;5;241m.\u001b[39mtitle(\u001b[38;5;124m'\u001b[39m\u001b[38;5;124mtop 5 influencing features in decreasing order of strength\u001b[39m\u001b[38;5;124m'\u001b[39m\u001b[38;5;241m.\u001b[39mupper(), fontsize\u001b[38;5;241m=\u001b[39m \u001b[38;5;241m20\u001b[39m)\n",
      "\u001b[1;31mNameError\u001b[0m: name 'top_5_features' is not defined"
     ]
    },
    {
     "data": {
      "text/plain": [
       "<Figure size 720x360 with 0 Axes>"
      ]
     },
     "metadata": {},
     "output_type": "display_data"
    }
   ],
   "source": [
    "#Defining plot size\n",
    "plt.figure(figsize= (10,5))\n",
    "\n",
    "#plotting\n",
    "sns.barplot(x= top_5_features.index, y= top_5_features, palette= 'Purples_r')\n",
    "\n",
    "# Defining Plot title, X label and Y label\n",
    "plt.title('top 5 influencing features in decreasing order of strength'.upper(), fontsize= 20)\n",
    "plt.xlabel('features name'.title(), fontsize= 13)\n",
    "plt.ylabel('features strength'.title(), fontsize= 13)\n",
    "\n",
    "plt.show()"
   ]
  },
  {
   "cell_type": "markdown",
   "id": "15d55bf1",
   "metadata": {},
   "source": [
    "### Section 6.1: Final Business Recommendations Based on Above"
   ]
  },
  {
   "cell_type": "markdown",
   "id": "bed00297",
   "metadata": {},
   "source": [
    "#### Following logical conclusions can be derived from above equation if all external and internal variables are stable:"
   ]
  },
  {
   "cell_type": "markdown",
   "id": "e85a58c4",
   "metadata": {},
   "source": [
    "#### • Most important factor affecting demand is temperature. With a coefficient of 0.73126, for every change in temperature of 1 degrees, demand increases by a factor of 0.73126 (temperature × 0.73126. Based on this, company will have to consider:"
   ]
  },
  {
   "cell_type": "markdown",
   "id": "b1d3a913",
   "metadata": {},
   "source": [
    "####  • Necessary capacity building during hotter months to fulfill the demand:"
   ]
  },
  {
   "cell_type": "markdown",
   "id": "b043c9de",
   "metadata": {},
   "source": [
    "#### • Recall from our DA section that hottest months lie in Fall season, June, July and Aug being the hottest.\n"
   ]
  },
  {
   "cell_type": "markdown",
   "id": "8f4416c7",
   "metadata": {},
   "source": [
    "#### •If the company is able to scale up its resources to meet the increasing demand in these 3 months, it will also be wise to invest in increased marketing and promotional activities if more competitors operate in the same market with similar offering."
   ]
  },
  {
   "cell_type": "markdown",
   "id": "d2faf306",
   "metadata": {},
   "source": [
    "#### • Second most important factor is Light Rain or Snow with a coefficient of -0.27750. Hence, if a particular day has light rains, it is expected to reduce the demand by 27.7%."
   ]
  },
  {
   "cell_type": "markdown",
   "id": "ae44c548",
   "metadata": {},
   "source": [
    "#### • Recall from our EDA section that frequency of light rains has been lowest and heavy rains have largely been non existant. October month shows the maximum number of instances of light rains."
   ]
  },
  {
   "cell_type": "markdown",
   "id": "2cc1a6ef",
   "metadata": {},
   "source": [
    "#### • Based on this, it is recommended to develop a sentiment based advertisement plan that heavily promotes \"fun element\" of \"riding bikes in the rain with family'"
   ]
  },
  {
   "cell_type": "markdown",
   "id": "b87a7c64",
   "metadata": {},
   "source": [
    "#### • Third most important factor is year with a coefficient value of 0.24236. Based on the historical data, given all internal and external factors remain unchanged, the company is expected to see annual growth over last year at around 24%."
   ]
  },
  {
   "cell_type": "markdown",
   "id": "4f9b23c1",
   "metadata": {},
   "source": [
    "#### • This helps us in factoring teh revenue and cost projections over a period of time,"
   ]
  },
  {
   "cell_type": "markdown",
   "id": "6ac6eca1",
   "metadata": {},
   "source": [
    "#### • Fourth most important factor is winter with a coefficient of 0.12793. This signifies that every winter, the demand is expected to incerase by a factor of 0.12793 bad on other months."
   ]
  },
  {
   "cell_type": "markdown",
   "id": "1bea6073",
   "metadata": {},
   "source": [
    "#### • Recall from our DA section, we recollect that Winter season constitutes of Sep. Oct, Nov and December months."
   ]
  },
  {
   "cell_type": "markdown",
   "id": "d668f081",
   "metadata": {},
   "source": [
    "#### • Company needs to work on capacity planing of these months and additionally plan for promotional campaigns in case a competitors exist with similar value propositions."
   ]
  },
  {
   "cell_type": "markdown",
   "id": "587edbde",
   "metadata": {},
   "source": [
    "#### • Fifth most important variable is the month of July with a coefficient weightage of -0.10141 which signifies that every July the demand is expected to drop by a factor of 0.10141 (Around 10%)"
   ]
  },
  {
   "cell_type": "markdown",
   "id": "f40e45bf",
   "metadata": {},
   "source": [
    "#### • Since month of July is also one of the hottest months, its relative weightage will simply decrease as compared to June and August. Hence, by logic, we can exclude month of July from our past recommendation."
   ]
  },
  {
   "cell_type": "code",
   "execution_count": null,
   "id": "ec83a07c",
   "metadata": {},
   "outputs": [],
   "source": []
  }
 ],
 "metadata": {
  "kernelspec": {
   "display_name": "Python 3 (ipykernel)",
   "language": "python",
   "name": "python3"
  },
  "language_info": {
   "codemirror_mode": {
    "name": "ipython",
    "version": 3
   },
   "file_extension": ".py",
   "mimetype": "text/x-python",
   "name": "python",
   "nbconvert_exporter": "python",
   "pygments_lexer": "ipython3",
   "version": "3.9.12"
  }
 },
 "nbformat": 4,
 "nbformat_minor": 5
}
